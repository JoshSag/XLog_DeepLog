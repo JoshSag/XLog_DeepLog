{
 "cells": [
  {
   "cell_type": "code",
   "execution_count": 1,
   "metadata": {},
   "outputs": [],
   "source": [
    "import nbformat as nbf\n",
    "import copy"
   ]
  },
  {
   "cell_type": "code",
   "execution_count": 2,
   "metadata": {},
   "outputs": [],
   "source": [
    "template_nb_path = \"static-template.ipynb\"\n",
    "template_nb = nbf.read(template_nb_path, nbf.NO_CONVERT)"
   ]
  },
  {
   "cell_type": "code",
   "execution_count": 3,
   "metadata": {},
   "outputs": [],
   "source": [
    "params = [(1,\"static-1\",20,5),\n",
    "          (2,\"static-2\",10,20),\n",
    "          (3,\"static-3\",20,10),\n",
    "          (4,\"static-4\",20,20),\n",
    "          (5,\"static-5\",20,40),\n",
    "          (6,\"static-6\",40,80)]\n",
    "def params_dict(prms):\n",
    "    return { \"seed\" : prms[0],\n",
    "             \"subdir\" :  prms[1],\n",
    "             \"vocabulary_size\" : prms[2],\n",
    "             \"num_patterns\" : prms[3] \n",
    "           }"
   ]
  },
  {
   "cell_type": "code",
   "execution_count": 4,
   "metadata": {},
   "outputs": [],
   "source": [
    "def make(prms):\n",
    "    filename = prms[1]\n",
    "    nb_res = copy.deepcopy(template_nb)\n",
    "    for c in nb_res.cells:\n",
    "        if \"### Parameters\" in c.source:\n",
    "            c.source = c.source.format(params_dict(prms))\n",
    "            break\n",
    "    nbf.write(nb_res, \"{}.ipynb\".format(filename))"
   ]
  },
  {
   "cell_type": "code",
   "execution_count": 5,
   "metadata": {},
   "outputs": [
    {
     "name": "stdout",
     "output_type": "stream",
     "text": [
      "(1, 'static-1', 20, 5)\n",
      "(2, 'static-2', 10, 20)\n",
      "(3, 'static-3', 20, 10)\n",
      "(4, 'static-4', 20, 20)\n",
      "(5, 'static-5', 20, 40)\n",
      "(6, 'static-6', 40, 80)\n"
     ]
    }
   ],
   "source": [
    "for prms in params:\n",
    "    print(prms)\n",
    "    make(prms)"
   ]
  }
 ],
 "metadata": {
  "kernelspec": {
   "display_name": "venv",
   "language": "python",
   "name": "venv"
  },
  "language_info": {
   "codemirror_mode": {
    "name": "ipython",
    "version": 3
   },
   "file_extension": ".py",
   "mimetype": "text/x-python",
   "name": "python",
   "nbconvert_exporter": "python",
   "pygments_lexer": "ipython3",
   "version": "3.8.5"
  }
 },
 "nbformat": 4,
 "nbformat_minor": 4
}
