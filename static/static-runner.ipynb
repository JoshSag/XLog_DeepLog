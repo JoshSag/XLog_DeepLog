{
 "cells": [
  {
   "cell_type": "code",
   "execution_count": 1,
   "metadata": {},
   "outputs": [
    {
     "name": "stdout",
     "output_type": "stream",
     "text": [
      "['static-1.ipynb', 'static-2.ipynb', 'static-3.ipynb', 'static-4.ipynb', 'static-5.ipynb', 'static-6.ipynb', 'static-7.ipynb']\n"
     ]
    }
   ],
   "source": [
    "import os, re\n",
    "files = os.listdir()\n",
    "nbs = [nb for nb in files if re.match(\"static-\\d+\\.ipynb\", nb)]\n",
    "print(nbs)"
   ]
  },
  {
   "cell_type": "code",
   "execution_count": 2,
   "metadata": {},
   "outputs": [
    {
     "name": "stdout",
     "output_type": "stream",
     "text": [
      "jupyter nbconvert --to notebook --ExecutePreprocessor.timeout=-1 --execute --inplace static-1.ipynb\n",
      "jupyter nbconvert --to notebook --ExecutePreprocessor.timeout=-1 --execute --inplace static-2.ipynb\n",
      "jupyter nbconvert --to notebook --ExecutePreprocessor.timeout=-1 --execute --inplace static-3.ipynb\n",
      "jupyter nbconvert --to notebook --ExecutePreprocessor.timeout=-1 --execute --inplace static-4.ipynb\n",
      "jupyter nbconvert --to notebook --ExecutePreprocessor.timeout=-1 --execute --inplace static-5.ipynb\n",
      "jupyter nbconvert --to notebook --ExecutePreprocessor.timeout=-1 --execute --inplace static-6.ipynb\n",
      "jupyter nbconvert --to notebook --ExecutePreprocessor.timeout=-1 --execute --inplace static-7.ipynb\n"
     ]
    }
   ],
   "source": [
    "for nb in nbs:\n",
    "    command = \"jupyter nbconvert --to notebook --ExecutePreprocessor.timeout=-1 --execute --inplace {0}\".format(nb)\n",
    "    print(command)\n",
    "    os.system(command)"
   ]
  },
  {
   "cell_type": "code",
   "execution_count": null,
   "metadata": {},
   "outputs": [],
   "source": []
  }
 ],
 "metadata": {
  "kernelspec": {
   "display_name": "venv",
   "language": "python",
   "name": "venv"
  },
  "language_info": {
   "codemirror_mode": {
    "name": "ipython",
    "version": 3
   },
   "file_extension": ".py",
   "mimetype": "text/x-python",
   "name": "python",
   "nbconvert_exporter": "python",
   "pygments_lexer": "ipython3",
   "version": "3.8.5"
  }
 },
 "nbformat": 4,
 "nbformat_minor": 4
}
