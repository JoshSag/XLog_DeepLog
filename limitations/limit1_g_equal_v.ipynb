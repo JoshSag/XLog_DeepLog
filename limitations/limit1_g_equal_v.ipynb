{
 "cells": [
  {
   "cell_type": "code",
   "execution_count": 1,
   "metadata": {},
   "outputs": [
    {
     "data": {
      "text/plain": [
       "time.struct_time(tm_year=2021, tm_mon=8, tm_mday=22, tm_hour=12, tm_min=20, tm_sec=4, tm_wday=6, tm_yday=234, tm_isdst=0)"
      ]
     },
     "execution_count": 1,
     "metadata": {},
     "output_type": "execute_result"
    }
   ],
   "source": [
    "import time\n",
    "time.gmtime()"
   ]
  },
  {
   "cell_type": "code",
   "execution_count": 2,
   "metadata": {},
   "outputs": [],
   "source": [
    "import os,sys,inspect\n",
    "currentdir = os.path.dirname(os.path.abspath(inspect.getfile(inspect.currentframe())))\n",
    "parentdir = os.path.dirname(currentdir)\n",
    "sys.path.insert(0,parentdir) "
   ]
  },
  {
   "cell_type": "code",
   "execution_count": 3,
   "metadata": {},
   "outputs": [],
   "source": [
    "import pandas as pd\n",
    "\n",
    "from _code import DeepLogModel\n",
    "from _code import generator\n",
    "from _code import trie\n",
    "from _code import seed"
   ]
  },
  {
   "cell_type": "code",
   "execution_count": 4,
   "metadata": {},
   "outputs": [],
   "source": [
    "seed.seed(0)"
   ]
  },
  {
   "cell_type": "code",
   "execution_count": 5,
   "metadata": {},
   "outputs": [
    {
     "name": "stdout",
     "output_type": "stream",
     "text": [
      "trie-g: 10\n",
      "trie-h: 3\n"
     ]
    }
   ],
   "source": [
    "vocabulary_size = 10\n",
    "vocabulary = generator.make_vocabulary(vocabulary_size=vocabulary_size)\n",
    "patterns = generator.generate_patterns(num_patterns=15, vocabulary=vocabulary, min_pattern_size=3, max_pattern_size=7)\n",
    "\n",
    "p_ = [(v,) + p for v,p in zip(vocabulary, patterns[:vocabulary_size])]\n",
    "patterns = p_ + patterns[vocabulary_size:]\n",
    "\n",
    "trie_g = trie.calc_g_value(patterns)\n",
    "trie_h = trie.calc_h_value(patterns)\n",
    "print(\"trie-g:\", trie_g)\n",
    "print(\"trie-h:\", trie_h)"
   ]
  },
  {
   "cell_type": "code",
   "execution_count": 6,
   "metadata": {},
   "outputs": [],
   "source": [
    "text_train, marks_train = generator.generate_text(patterns, text_size=50000, anomaly_ratio=0.00, vocabulary=vocabulary) "
   ]
  },
  {
   "cell_type": "code",
   "execution_count": 7,
   "metadata": {},
   "outputs": [
    {
     "data": {
      "text/plain": [
       "<_code.DeepLogModel.HistoryLoss at 0x2416e1d0b80>"
      ]
     },
     "execution_count": 7,
     "metadata": {},
     "output_type": "execute_result"
    }
   ],
   "source": [
    "deep_log_model = DeepLogModel.DeepLogModel(h=trie_h+1, n=vocabulary_size, vocabulary=vocabulary)\n",
    "deep_log_model.build(num_lstm_layers=2, lstm_size=64)\n",
    "deep_log_model.fit(text_train,epochs=1)"
   ]
  },
  {
   "cell_type": "code",
   "execution_count": 8,
   "metadata": {},
   "outputs": [],
   "source": [
    "tests_legit = generator.generate_tests(patterns, vocabulary, n=1, text_size = 100, anomaly_ratio=0.00)\n",
    "text_test_legit, marks_test_legit, anomaly = tests_legit[0]\n",
    "\n",
    "tests_anomaly = generator.generate_tests(patterns, vocabulary, n=1, text_size = 100, anomaly_ratio=0.05)\n",
    "text_test_anomaly, marks_test_anomaly, anomaly = tests_anomaly[0]"
   ]
  },
  {
   "cell_type": "code",
   "execution_count": 9,
   "metadata": {},
   "outputs": [
    {
     "data": {
      "text/html": [
       "<div>\n",
       "<style scoped>\n",
       "    .dataframe tbody tr th:only-of-type {\n",
       "        vertical-align: middle;\n",
       "    }\n",
       "\n",
       "    .dataframe tbody tr th {\n",
       "        vertical-align: top;\n",
       "    }\n",
       "\n",
       "    .dataframe thead th {\n",
       "        text-align: right;\n",
       "    }\n",
       "</style>\n",
       "<table border=\"1\" class=\"dataframe\">\n",
       "  <thead>\n",
       "    <tr style=\"text-align: right;\">\n",
       "      <th></th>\n",
       "      <th>g</th>\n",
       "      <th>without_anomaly</th>\n",
       "      <th>with_anomaly</th>\n",
       "    </tr>\n",
       "  </thead>\n",
       "  <tbody>\n",
       "    <tr>\n",
       "      <th>0</th>\n",
       "      <td>0</td>\n",
       "      <td>FP</td>\n",
       "      <td>TP</td>\n",
       "    </tr>\n",
       "    <tr>\n",
       "      <th>1</th>\n",
       "      <td>1</td>\n",
       "      <td>FP</td>\n",
       "      <td>TP</td>\n",
       "    </tr>\n",
       "    <tr>\n",
       "      <th>2</th>\n",
       "      <td>2</td>\n",
       "      <td>FP</td>\n",
       "      <td>TP</td>\n",
       "    </tr>\n",
       "    <tr>\n",
       "      <th>3</th>\n",
       "      <td>3</td>\n",
       "      <td>FP</td>\n",
       "      <td>TP</td>\n",
       "    </tr>\n",
       "    <tr>\n",
       "      <th>4</th>\n",
       "      <td>4</td>\n",
       "      <td>FP</td>\n",
       "      <td>TP</td>\n",
       "    </tr>\n",
       "    <tr>\n",
       "      <th>5</th>\n",
       "      <td>5</td>\n",
       "      <td>FP</td>\n",
       "      <td>TP</td>\n",
       "    </tr>\n",
       "    <tr>\n",
       "      <th>6</th>\n",
       "      <td>6</td>\n",
       "      <td>FP</td>\n",
       "      <td>TP</td>\n",
       "    </tr>\n",
       "    <tr>\n",
       "      <th>7</th>\n",
       "      <td>7</td>\n",
       "      <td>FP</td>\n",
       "      <td>TP</td>\n",
       "    </tr>\n",
       "    <tr>\n",
       "      <th>8</th>\n",
       "      <td>8</td>\n",
       "      <td>FP</td>\n",
       "      <td>TP</td>\n",
       "    </tr>\n",
       "    <tr>\n",
       "      <th>9</th>\n",
       "      <td>9</td>\n",
       "      <td>FP</td>\n",
       "      <td>TP</td>\n",
       "    </tr>\n",
       "    <tr>\n",
       "      <th>10</th>\n",
       "      <td>10</td>\n",
       "      <td>TN</td>\n",
       "      <td>FN</td>\n",
       "    </tr>\n",
       "  </tbody>\n",
       "</table>\n",
       "</div>"
      ],
      "text/plain": [
       "     g without_anomaly with_anomaly\n",
       "0    0              FP           TP\n",
       "1    1              FP           TP\n",
       "2    2              FP           TP\n",
       "3    3              FP           TP\n",
       "4    4              FP           TP\n",
       "5    5              FP           TP\n",
       "6    6              FP           TP\n",
       "7    7              FP           TP\n",
       "8    8              FP           TP\n",
       "9    9              FP           TP\n",
       "10  10              TN           FN"
      ]
     },
     "execution_count": 9,
     "metadata": {},
     "output_type": "execute_result"
    }
   ],
   "source": [
    "entries = list()\n",
    "for g in range(0, vocabulary_size+1):\n",
    "    res_legit = deep_log_model.monitor_session(text_test_legit, marks_test_legit,g=g)\n",
    "    res_anomaly = deep_log_model.monitor_session(text_test_anomaly, marks_test_anomaly,g=g)\n",
    "    entry = (g,res_legit, res_anomaly)\n",
    "    entries.append(entry)\n",
    "df = pd.DataFrame(entries, columns = [\"g\", \"without_anomaly\", \"with_anomaly\"])\n",
    "df"
   ]
  },
  {
   "cell_type": "code",
   "execution_count": 10,
   "metadata": {},
   "outputs": [
    {
     "data": {
      "text/html": [
       "<style  type=\"text/css\" >\n",
       "#T_80c0dd82_0343_11ec_9a2e_14abc50a4aaarow0_col3,#T_80c0dd82_0343_11ec_9a2e_14abc50a4aaarow1_col3,#T_80c0dd82_0343_11ec_9a2e_14abc50a4aaarow2_col3,#T_80c0dd82_0343_11ec_9a2e_14abc50a4aaarow3_col3,#T_80c0dd82_0343_11ec_9a2e_14abc50a4aaarow4_col3,#T_80c0dd82_0343_11ec_9a2e_14abc50a4aaarow5_col3,#T_80c0dd82_0343_11ec_9a2e_14abc50a4aaarow6_col3,#T_80c0dd82_0343_11ec_9a2e_14abc50a4aaarow7_col3,#T_80c0dd82_0343_11ec_9a2e_14abc50a4aaarow8_col3,#T_80c0dd82_0343_11ec_9a2e_14abc50a4aaarow9_col3,#T_80c0dd82_0343_11ec_9a2e_14abc50a4aaarow10_col3{\n",
       "            background-color:  red;\n",
       "        }</style><table id=\"T_80c0dd82_0343_11ec_9a2e_14abc50a4aaa\" ><thead>    <tr>        <th class=\"blank level0\" ></th>        <th class=\"col_heading level0 col0\" >g</th>        <th class=\"col_heading level0 col1\" >without_anomaly</th>        <th class=\"col_heading level0 col2\" >with_anomaly</th>        <th class=\"col_heading level0 col3\" >total</th>    </tr></thead><tbody>\n",
       "                <tr>\n",
       "                        <th id=\"T_80c0dd82_0343_11ec_9a2e_14abc50a4aaalevel0_row0\" class=\"row_heading level0 row0\" >0</th>\n",
       "                        <td id=\"T_80c0dd82_0343_11ec_9a2e_14abc50a4aaarow0_col0\" class=\"data row0 col0\" >0</td>\n",
       "                        <td id=\"T_80c0dd82_0343_11ec_9a2e_14abc50a4aaarow0_col1\" class=\"data row0 col1\" >FP</td>\n",
       "                        <td id=\"T_80c0dd82_0343_11ec_9a2e_14abc50a4aaarow0_col2\" class=\"data row0 col2\" >TP</td>\n",
       "                        <td id=\"T_80c0dd82_0343_11ec_9a2e_14abc50a4aaarow0_col3\" class=\"data row0 col3\" >FP</td>\n",
       "            </tr>\n",
       "            <tr>\n",
       "                        <th id=\"T_80c0dd82_0343_11ec_9a2e_14abc50a4aaalevel0_row1\" class=\"row_heading level0 row1\" >1</th>\n",
       "                        <td id=\"T_80c0dd82_0343_11ec_9a2e_14abc50a4aaarow1_col0\" class=\"data row1 col0\" >1</td>\n",
       "                        <td id=\"T_80c0dd82_0343_11ec_9a2e_14abc50a4aaarow1_col1\" class=\"data row1 col1\" >FP</td>\n",
       "                        <td id=\"T_80c0dd82_0343_11ec_9a2e_14abc50a4aaarow1_col2\" class=\"data row1 col2\" >TP</td>\n",
       "                        <td id=\"T_80c0dd82_0343_11ec_9a2e_14abc50a4aaarow1_col3\" class=\"data row1 col3\" >FP</td>\n",
       "            </tr>\n",
       "            <tr>\n",
       "                        <th id=\"T_80c0dd82_0343_11ec_9a2e_14abc50a4aaalevel0_row2\" class=\"row_heading level0 row2\" >2</th>\n",
       "                        <td id=\"T_80c0dd82_0343_11ec_9a2e_14abc50a4aaarow2_col0\" class=\"data row2 col0\" >2</td>\n",
       "                        <td id=\"T_80c0dd82_0343_11ec_9a2e_14abc50a4aaarow2_col1\" class=\"data row2 col1\" >FP</td>\n",
       "                        <td id=\"T_80c0dd82_0343_11ec_9a2e_14abc50a4aaarow2_col2\" class=\"data row2 col2\" >TP</td>\n",
       "                        <td id=\"T_80c0dd82_0343_11ec_9a2e_14abc50a4aaarow2_col3\" class=\"data row2 col3\" >FP</td>\n",
       "            </tr>\n",
       "            <tr>\n",
       "                        <th id=\"T_80c0dd82_0343_11ec_9a2e_14abc50a4aaalevel0_row3\" class=\"row_heading level0 row3\" >3</th>\n",
       "                        <td id=\"T_80c0dd82_0343_11ec_9a2e_14abc50a4aaarow3_col0\" class=\"data row3 col0\" >3</td>\n",
       "                        <td id=\"T_80c0dd82_0343_11ec_9a2e_14abc50a4aaarow3_col1\" class=\"data row3 col1\" >FP</td>\n",
       "                        <td id=\"T_80c0dd82_0343_11ec_9a2e_14abc50a4aaarow3_col2\" class=\"data row3 col2\" >TP</td>\n",
       "                        <td id=\"T_80c0dd82_0343_11ec_9a2e_14abc50a4aaarow3_col3\" class=\"data row3 col3\" >FP</td>\n",
       "            </tr>\n",
       "            <tr>\n",
       "                        <th id=\"T_80c0dd82_0343_11ec_9a2e_14abc50a4aaalevel0_row4\" class=\"row_heading level0 row4\" >4</th>\n",
       "                        <td id=\"T_80c0dd82_0343_11ec_9a2e_14abc50a4aaarow4_col0\" class=\"data row4 col0\" >4</td>\n",
       "                        <td id=\"T_80c0dd82_0343_11ec_9a2e_14abc50a4aaarow4_col1\" class=\"data row4 col1\" >FP</td>\n",
       "                        <td id=\"T_80c0dd82_0343_11ec_9a2e_14abc50a4aaarow4_col2\" class=\"data row4 col2\" >TP</td>\n",
       "                        <td id=\"T_80c0dd82_0343_11ec_9a2e_14abc50a4aaarow4_col3\" class=\"data row4 col3\" >FP</td>\n",
       "            </tr>\n",
       "            <tr>\n",
       "                        <th id=\"T_80c0dd82_0343_11ec_9a2e_14abc50a4aaalevel0_row5\" class=\"row_heading level0 row5\" >5</th>\n",
       "                        <td id=\"T_80c0dd82_0343_11ec_9a2e_14abc50a4aaarow5_col0\" class=\"data row5 col0\" >5</td>\n",
       "                        <td id=\"T_80c0dd82_0343_11ec_9a2e_14abc50a4aaarow5_col1\" class=\"data row5 col1\" >FP</td>\n",
       "                        <td id=\"T_80c0dd82_0343_11ec_9a2e_14abc50a4aaarow5_col2\" class=\"data row5 col2\" >TP</td>\n",
       "                        <td id=\"T_80c0dd82_0343_11ec_9a2e_14abc50a4aaarow5_col3\" class=\"data row5 col3\" >FP</td>\n",
       "            </tr>\n",
       "            <tr>\n",
       "                        <th id=\"T_80c0dd82_0343_11ec_9a2e_14abc50a4aaalevel0_row6\" class=\"row_heading level0 row6\" >6</th>\n",
       "                        <td id=\"T_80c0dd82_0343_11ec_9a2e_14abc50a4aaarow6_col0\" class=\"data row6 col0\" >6</td>\n",
       "                        <td id=\"T_80c0dd82_0343_11ec_9a2e_14abc50a4aaarow6_col1\" class=\"data row6 col1\" >FP</td>\n",
       "                        <td id=\"T_80c0dd82_0343_11ec_9a2e_14abc50a4aaarow6_col2\" class=\"data row6 col2\" >TP</td>\n",
       "                        <td id=\"T_80c0dd82_0343_11ec_9a2e_14abc50a4aaarow6_col3\" class=\"data row6 col3\" >FP</td>\n",
       "            </tr>\n",
       "            <tr>\n",
       "                        <th id=\"T_80c0dd82_0343_11ec_9a2e_14abc50a4aaalevel0_row7\" class=\"row_heading level0 row7\" >7</th>\n",
       "                        <td id=\"T_80c0dd82_0343_11ec_9a2e_14abc50a4aaarow7_col0\" class=\"data row7 col0\" >7</td>\n",
       "                        <td id=\"T_80c0dd82_0343_11ec_9a2e_14abc50a4aaarow7_col1\" class=\"data row7 col1\" >FP</td>\n",
       "                        <td id=\"T_80c0dd82_0343_11ec_9a2e_14abc50a4aaarow7_col2\" class=\"data row7 col2\" >TP</td>\n",
       "                        <td id=\"T_80c0dd82_0343_11ec_9a2e_14abc50a4aaarow7_col3\" class=\"data row7 col3\" >FP</td>\n",
       "            </tr>\n",
       "            <tr>\n",
       "                        <th id=\"T_80c0dd82_0343_11ec_9a2e_14abc50a4aaalevel0_row8\" class=\"row_heading level0 row8\" >8</th>\n",
       "                        <td id=\"T_80c0dd82_0343_11ec_9a2e_14abc50a4aaarow8_col0\" class=\"data row8 col0\" >8</td>\n",
       "                        <td id=\"T_80c0dd82_0343_11ec_9a2e_14abc50a4aaarow8_col1\" class=\"data row8 col1\" >FP</td>\n",
       "                        <td id=\"T_80c0dd82_0343_11ec_9a2e_14abc50a4aaarow8_col2\" class=\"data row8 col2\" >TP</td>\n",
       "                        <td id=\"T_80c0dd82_0343_11ec_9a2e_14abc50a4aaarow8_col3\" class=\"data row8 col3\" >FP</td>\n",
       "            </tr>\n",
       "            <tr>\n",
       "                        <th id=\"T_80c0dd82_0343_11ec_9a2e_14abc50a4aaalevel0_row9\" class=\"row_heading level0 row9\" >9</th>\n",
       "                        <td id=\"T_80c0dd82_0343_11ec_9a2e_14abc50a4aaarow9_col0\" class=\"data row9 col0\" >9</td>\n",
       "                        <td id=\"T_80c0dd82_0343_11ec_9a2e_14abc50a4aaarow9_col1\" class=\"data row9 col1\" >FP</td>\n",
       "                        <td id=\"T_80c0dd82_0343_11ec_9a2e_14abc50a4aaarow9_col2\" class=\"data row9 col2\" >TP</td>\n",
       "                        <td id=\"T_80c0dd82_0343_11ec_9a2e_14abc50a4aaarow9_col3\" class=\"data row9 col3\" >FP</td>\n",
       "            </tr>\n",
       "            <tr>\n",
       "                        <th id=\"T_80c0dd82_0343_11ec_9a2e_14abc50a4aaalevel0_row10\" class=\"row_heading level0 row10\" >10</th>\n",
       "                        <td id=\"T_80c0dd82_0343_11ec_9a2e_14abc50a4aaarow10_col0\" class=\"data row10 col0\" >10</td>\n",
       "                        <td id=\"T_80c0dd82_0343_11ec_9a2e_14abc50a4aaarow10_col1\" class=\"data row10 col1\" >TN</td>\n",
       "                        <td id=\"T_80c0dd82_0343_11ec_9a2e_14abc50a4aaarow10_col2\" class=\"data row10 col2\" >FN</td>\n",
       "                        <td id=\"T_80c0dd82_0343_11ec_9a2e_14abc50a4aaarow10_col3\" class=\"data row10 col3\" >FN</td>\n",
       "            </tr>\n",
       "    </tbody></table>"
      ],
      "text/plain": [
       "<pandas.io.formats.style.Styler at 0x24177f6e520>"
      ]
     },
     "execution_count": 10,
     "metadata": {},
     "output_type": "execute_result"
    }
   ],
   "source": [
    "df[\"total\"] = df[[\"without_anomaly\", \"with_anomaly\"]].min(axis=1)\n",
    "def color(x):\n",
    "    if x in {\"FP\",\"FN\"}:\n",
    "        return \"background-color: red\"\n",
    "    elif x in {\"TP\",\"TN\"}:\n",
    "        return \"background-color: green\"\n",
    "    else:\n",
    "        raise ValueError()\n",
    "        \n",
    "df.style.applymap(color, subset = [\"total\"])"
   ]
  }
 ],
 "metadata": {
  "kernelspec": {
   "display_name": "venv",
   "language": "python",
   "name": "venv"
  },
  "language_info": {
   "codemirror_mode": {
    "name": "ipython",
    "version": 3
   },
   "file_extension": ".py",
   "mimetype": "text/x-python",
   "name": "python",
   "nbconvert_exporter": "python",
   "pygments_lexer": "ipython3",
   "version": "3.8.5"
  }
 },
 "nbformat": 4,
 "nbformat_minor": 4
}
