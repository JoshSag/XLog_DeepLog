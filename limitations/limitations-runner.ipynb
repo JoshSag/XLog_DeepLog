{
 "cells": [
  {
   "cell_type": "code",
   "execution_count": 2,
   "metadata": {},
   "outputs": [
    {
     "name": "stdout",
     "output_type": "stream",
     "text": [
      "['limit1_g_equal_v.ipynb', 'limit2_injection.ipynb', 'limit3_overlap.ipynb', 'limit4_forget.ipynb']\n"
     ]
    }
   ],
   "source": [
    "import os, re, time\n",
    "files = os.listdir()\n",
    "nbs = [nb for nb in files if re.match(\"limit\\d+_.*\\.ipynb\", nb)]\n",
    "print(nbs)"
   ]
  },
  {
   "cell_type": "code",
   "execution_count": 3,
   "metadata": {},
   "outputs": [
    {
     "name": "stdout",
     "output_type": "stream",
     "text": [
      "time.struct_time(tm_year=2021, tm_mon=8, tm_mday=22, tm_hour=15, tm_min=19, tm_sec=57, tm_wday=6, tm_yday=234, tm_isdst=1)\n",
      "jupyter nbconvert --to notebook --ExecutePreprocessor.timeout=-1 --execute --inplace limit1_g_equal_v.ipynb\n",
      "time.struct_time(tm_year=2021, tm_mon=8, tm_mday=22, tm_hour=15, tm_min=21, tm_sec=41, tm_wday=6, tm_yday=234, tm_isdst=1)\n",
      "jupyter nbconvert --to notebook --ExecutePreprocessor.timeout=-1 --execute --inplace limit2_injection.ipynb\n",
      "time.struct_time(tm_year=2021, tm_mon=8, tm_mday=22, tm_hour=15, tm_min=43, tm_sec=35, tm_wday=6, tm_yday=234, tm_isdst=1)\n",
      "jupyter nbconvert --to notebook --ExecutePreprocessor.timeout=-1 --execute --inplace limit3_overlap.ipynb\n",
      "time.struct_time(tm_year=2021, tm_mon=8, tm_mday=22, tm_hour=15, tm_min=45, tm_sec=2, tm_wday=6, tm_yday=234, tm_isdst=1)\n",
      "jupyter nbconvert --to notebook --ExecutePreprocessor.timeout=-1 --execute --inplace limit4_forget.ipynb\n"
     ]
    }
   ],
   "source": [
    "for nb in nbs:\n",
    "    command = \"jupyter nbconvert --to notebook --ExecutePreprocessor.timeout=-1 --execute --inplace {0}\".format(nb)\n",
    "    print(time.localtime())\n",
    "    print(command)\n",
    "    os.system(command)"
   ]
  }
 ],
 "metadata": {
  "kernelspec": {
   "display_name": "venv",
   "language": "python",
   "name": "venv"
  },
  "language_info": {
   "codemirror_mode": {
    "name": "ipython",
    "version": 3
   },
   "file_extension": ".py",
   "mimetype": "text/x-python",
   "name": "python",
   "nbconvert_exporter": "python",
   "pygments_lexer": "ipython3",
   "version": "3.8.5"
  }
 },
 "nbformat": 4,
 "nbformat_minor": 4
}
