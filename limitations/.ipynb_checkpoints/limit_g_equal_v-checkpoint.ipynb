{
 "cells": [
  {
   "cell_type": "code",
   "execution_count": null,
   "metadata": {},
   "outputs": [],
   "source": [
    "import time\n",
    "time.gmtime()"
   ]
  },
  {
   "cell_type": "code",
   "execution_count": null,
   "metadata": {},
   "outputs": [],
   "source": [
    "import os,sys,inspect\n",
    "currentdir = os.path.dirname(os.path.abspath(inspect.getfile(inspect.currentframe())))\n",
    "parentdir = os.path.dirname(currentdir)\n",
    "sys.path.insert(0,parentdir) "
   ]
  },
  {
   "cell_type": "code",
   "execution_count": null,
   "metadata": {},
   "outputs": [],
   "source": [
    "import pandas as pd\n",
    "\n",
    "from _code import DeepLogModel\n",
    "from _code import generator\n",
    "from _code import trie\n",
    "from _code import seed"
   ]
  },
  {
   "cell_type": "code",
   "execution_count": null,
   "metadata": {},
   "outputs": [],
   "source": [
    "seed.seed(0)"
   ]
  },
  {
   "cell_type": "code",
   "execution_count": null,
   "metadata": {},
   "outputs": [],
   "source": [
    "vocabulary_size = 10\n",
    "vocabulary = generator.make_vocabulary(vocabulary_size=vocabulary_size)\n",
    "patterns = generator.generate_patterns(num_patterns=15, vocabulary=vocabulary, min_pattern_size=3, max_pattern_size=7)\n",
    "\n",
    "p_ = [(v,) + p for v,p in zip(vocabulary, patterns[:vocabulary_size])]\n",
    "patterns = p_ + patterns[vocabulary_size:]\n",
    "\n",
    "trie_g = trie.calc_g_value(patterns)\n",
    "trie_h = trie.calc_h_value(patterns)\n",
    "print(\"trie-g:\", trie_g)\n",
    "print(\"trie-h:\", trie_h)"
   ]
  },
  {
   "cell_type": "code",
   "execution_count": null,
   "metadata": {},
   "outputs": [],
   "source": [
    "text_train, marks_train = generator.generate_text(patterns, text_size=50000, anomaly_ratio=0.00, vocabulary=vocabulary) "
   ]
  },
  {
   "cell_type": "code",
   "execution_count": null,
   "metadata": {},
   "outputs": [],
   "source": [
    "deep_log_model = DeepLogModel.DeepLogModel(h=trie_h+1, n=vocabulary_size, vocabulary=vocabulary)\n",
    "deep_log_model.build(num_lstm_layers=2, lstm_size=64)\n",
    "deep_log_model.fit(text_train,epochs=1)"
   ]
  },
  {
   "cell_type": "code",
   "execution_count": null,
   "metadata": {},
   "outputs": [],
   "source": [
    "tests_legit = generator.generate_tests(patterns, vocabulary, n=1, text_size = 100, anomaly_ratio=0.00)\n",
    "text_test_legit, marks_test_legit, anomaly = tests_legit[0]\n",
    "\n",
    "tests_anomaly = generator.generate_tests(patterns, vocabulary, n=1, text_size = 100, anomaly_ratio=0.05)\n",
    "text_test_anomaly, marks_test_anomaly, anomaly = tests_anomaly[0]"
   ]
  },
  {
   "cell_type": "code",
   "execution_count": null,
   "metadata": {},
   "outputs": [],
   "source": [
    "entries = list()\n",
    "for g in range(0, vocabulary_size+1):\n",
    "    res_legit = deep_log_model.monitor_session(text_test_legit, marks_test_legit,g=g)\n",
    "    res_anomaly = deep_log_model.monitor_session(text_test_anomaly, marks_test_anomaly,g=g)\n",
    "    entry = (g,res_legit, res_anomaly)\n",
    "    entries.append(entry)\n",
    "df = pd.DataFrame(entries, columns = [\"g\", \"without_anomaly\", \"with_anomaly\"])\n",
    "df"
   ]
  },
  {
   "cell_type": "code",
   "execution_count": null,
   "metadata": {},
   "outputs": [],
   "source": [
    "df[\"total\"] = df[[\"without_anomaly\", \"with_anomaly\"]].min(axis=1)\n",
    "def color(x):\n",
    "    if x in {\"FP\",\"FN\"}:\n",
    "        return \"background-color: red\"\n",
    "    elif x in {\"TP\",\"TN\"}:\n",
    "        return \"background-color: green\"\n",
    "    else:\n",
    "        raise ValueError()\n",
    "        \n",
    "df.style.applymap(color, subset = [\"total\"])"
   ]
  }
 ],
 "metadata": {
  "kernelspec": {
   "display_name": "venv",
   "language": "python",
   "name": "venv"
  },
  "language_info": {
   "codemirror_mode": {
    "name": "ipython",
    "version": 3
   },
   "file_extension": ".py",
   "mimetype": "text/x-python",
   "name": "python",
   "nbconvert_exporter": "python",
   "pygments_lexer": "ipython3",
   "version": "3.8.5"
  }
 },
 "nbformat": 4,
 "nbformat_minor": 4
}
