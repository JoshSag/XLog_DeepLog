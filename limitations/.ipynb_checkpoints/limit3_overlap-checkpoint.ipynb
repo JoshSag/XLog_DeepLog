{
 "cells": [
  {
   "cell_type": "code",
   "execution_count": 1,
   "metadata": {},
   "outputs": [
    {
     "data": {
      "text/plain": [
       "time.struct_time(tm_year=2021, tm_mon=8, tm_mday=22, tm_hour=12, tm_min=43, tm_sec=42, tm_wday=6, tm_yday=234, tm_isdst=0)"
      ]
     },
     "execution_count": 1,
     "metadata": {},
     "output_type": "execute_result"
    }
   ],
   "source": [
    "import time\n",
    "time.gmtime()"
   ]
  },
  {
   "cell_type": "code",
   "execution_count": 2,
   "metadata": {},
   "outputs": [],
   "source": [
    "import os,sys,inspect\n",
    "currentdir = os.path.dirname(os.path.abspath(inspect.getfile(inspect.currentframe())))\n",
    "parentdir = os.path.dirname(currentdir)\n",
    "sys.path.insert(0,parentdir) "
   ]
  },
  {
   "cell_type": "code",
   "execution_count": 3,
   "metadata": {},
   "outputs": [],
   "source": [
    "import pandas as pd\n",
    "import itertools\n",
    "\n",
    "from _code import DeepLogModel\n",
    "from _code import generator\n",
    "from _code import trie\n",
    "from _code import seed"
   ]
  },
  {
   "cell_type": "code",
   "execution_count": 4,
   "metadata": {},
   "outputs": [],
   "source": [
    "seed.seed(0)"
   ]
  },
  {
   "cell_type": "code",
   "execution_count": 5,
   "metadata": {},
   "outputs": [
    {
     "data": {
      "text/plain": [
       "22"
      ]
     },
     "execution_count": 5,
     "metadata": {},
     "output_type": "execute_result"
    }
   ],
   "source": [
    "vocabulary_size = 15\n",
    "vocabulary = generator.make_vocabulary(vocabulary_size=vocabulary_size)\n",
    "patterns = generator.generate_patterns(num_patterns=100, vocabulary=vocabulary, min_pattern_size=3, max_pattern_size=7)\n",
    "p_add = [(\"a\",\"b\",\"c\",\"d\",\"e\"), (\"c\",\"d\",\"e\",\"f\",\"g\")]\n",
    "vocabulary_add = set(list(itertools.chain.from_iterable(p_add)))\n",
    "vocabulary = set(vocabulary)\n",
    "vocabulary = vocabulary.union(vocabulary_add)\n",
    "vocabulary_size = len(vocabulary)\n",
    "patterns = patterns + p_add\n",
    "vocabulary_size"
   ]
  },
  {
   "cell_type": "code",
   "execution_count": 6,
   "metadata": {},
   "outputs": [],
   "source": [
    "text_train, marks_train = generator.generate_text(patterns, text_size=10000, anomaly_ratio=0.00, vocabulary=vocabulary)\n"
   ]
  },
  {
   "cell_type": "code",
   "execution_count": 7,
   "metadata": {},
   "outputs": [
    {
     "data": {
      "text/plain": [
       "<_code.DeepLogModel.HistoryLoss at 0x23b2045b0a0>"
      ]
     },
     "execution_count": 7,
     "metadata": {},
     "output_type": "execute_result"
    }
   ],
   "source": [
    "deep_log_model = DeepLogModel.DeepLogModel(h=4, n=vocabulary_size, vocabulary=vocabulary)\n",
    "deep_log_model.build(num_lstm_layers=2, lstm_size=50) # for this example we don't want over-fit the network\n",
    "deep_log_model.fit(text_train,epochs=1)"
   ]
  },
  {
   "cell_type": "markdown",
   "metadata": {},
   "source": [
    "## README\n",
    "1. We train the network on large corpus of workflow without over-fitting it.\n",
    "   (If the network is in over-fit state it has different problems. In that case our LSTM will be just an n-gram model with n=history_size)\n",
    "2. Two or the workflows in the training text are (a,b,c,d,e) and (c,d,e,f,g)\n",
    "3. We inject the anomalous text (a,b,c,d,e,f,g) inside a legitimate context\n",
    "4. An LSTM prediction which accept top-g predicted letters fail to alert on this anomaly.\n",
    "5. This is because an LSTM give a pretty high probability to letter f because its closest context (c,d,e) predict it, even so we have (a,b) before them."
   ]
  },
  {
   "cell_type": "code",
   "execution_count": 8,
   "metadata": {},
   "outputs": [
    {
     "name": "stdout",
     "output_type": "stream",
     "text": [
      "('s05', 's02', 's04', 's07', 's06', 's08', 'a', 'b', 'c', 'd', 'e', 'f', 'g', 's12', 's10', 's01')\n"
     ]
    }
   ],
   "source": [
    "text_inject = (\"a\",\"b\",\"c\",\"d\",\"e\",\"f\",\"g\")\n",
    "marks_inject = [1]*len((\"a\",\"b\",\"c\",\"d\",\"e\")) + [0]*len((\"f\",\"g\"))\n",
    "\n",
    "text_test_anomaly = patterns[1] + text_inject + patterns[2]\n",
    "print(text_test_anomaly)\n",
    "marks_test_anomaly = [1]*len(patterns[1]) + marks_inject + [1]*len(patterns[2])\n",
    "\n",
    "tests_legit = generator.generate_tests(patterns, vocabulary, n=1, text_size = 300, anomaly_ratio=0.00)\n",
    "text_test_legit, marks_test_legit, anomaly = tests_legit[0]\n",
    "\n",
    "entries = list()\n",
    "for g in range(0, vocabulary_size+1):\n",
    "    res_legit = deep_log_model.monitor_session(text_test_legit, marks_test_legit,g=g)\n",
    "    res_anomaly = deep_log_model.monitor_session(text_test_anomaly, marks_test_anomaly,g=g)\n",
    "    entry = (g,res_legit, res_anomaly)\n",
    "    entries.append(entry)\n",
    "df = pd.DataFrame(entries, columns = [\"g\", \"without_anomaly\", \"with_anomaly\"])\n",
    "\n"
   ]
  },
  {
   "cell_type": "code",
   "execution_count": 9,
   "metadata": {},
   "outputs": [
    {
     "data": {
      "text/html": [
       "<style  type=\"text/css\" >\n",
       "#T_c38accd5_0346_11ec_b504_14abc50a4aaarow0_col3,#T_c38accd5_0346_11ec_b504_14abc50a4aaarow1_col3,#T_c38accd5_0346_11ec_b504_14abc50a4aaarow2_col3,#T_c38accd5_0346_11ec_b504_14abc50a4aaarow3_col3,#T_c38accd5_0346_11ec_b504_14abc50a4aaarow4_col3,#T_c38accd5_0346_11ec_b504_14abc50a4aaarow5_col3,#T_c38accd5_0346_11ec_b504_14abc50a4aaarow6_col3,#T_c38accd5_0346_11ec_b504_14abc50a4aaarow7_col3,#T_c38accd5_0346_11ec_b504_14abc50a4aaarow8_col3,#T_c38accd5_0346_11ec_b504_14abc50a4aaarow9_col3,#T_c38accd5_0346_11ec_b504_14abc50a4aaarow10_col3,#T_c38accd5_0346_11ec_b504_14abc50a4aaarow11_col3,#T_c38accd5_0346_11ec_b504_14abc50a4aaarow12_col3,#T_c38accd5_0346_11ec_b504_14abc50a4aaarow13_col3,#T_c38accd5_0346_11ec_b504_14abc50a4aaarow14_col3,#T_c38accd5_0346_11ec_b504_14abc50a4aaarow15_col3,#T_c38accd5_0346_11ec_b504_14abc50a4aaarow16_col3,#T_c38accd5_0346_11ec_b504_14abc50a4aaarow17_col3,#T_c38accd5_0346_11ec_b504_14abc50a4aaarow18_col3,#T_c38accd5_0346_11ec_b504_14abc50a4aaarow19_col3,#T_c38accd5_0346_11ec_b504_14abc50a4aaarow20_col3,#T_c38accd5_0346_11ec_b504_14abc50a4aaarow21_col3,#T_c38accd5_0346_11ec_b504_14abc50a4aaarow22_col3{\n",
       "            background-color:  red;\n",
       "        }</style><table id=\"T_c38accd5_0346_11ec_b504_14abc50a4aaa\" ><thead>    <tr>        <th class=\"blank level0\" ></th>        <th class=\"col_heading level0 col0\" >g</th>        <th class=\"col_heading level0 col1\" >without_anomaly</th>        <th class=\"col_heading level0 col2\" >with_anomaly</th>        <th class=\"col_heading level0 col3\" >total</th>    </tr></thead><tbody>\n",
       "                <tr>\n",
       "                        <th id=\"T_c38accd5_0346_11ec_b504_14abc50a4aaalevel0_row0\" class=\"row_heading level0 row0\" >0</th>\n",
       "                        <td id=\"T_c38accd5_0346_11ec_b504_14abc50a4aaarow0_col0\" class=\"data row0 col0\" >0</td>\n",
       "                        <td id=\"T_c38accd5_0346_11ec_b504_14abc50a4aaarow0_col1\" class=\"data row0 col1\" >FP</td>\n",
       "                        <td id=\"T_c38accd5_0346_11ec_b504_14abc50a4aaarow0_col2\" class=\"data row0 col2\" >TP</td>\n",
       "                        <td id=\"T_c38accd5_0346_11ec_b504_14abc50a4aaarow0_col3\" class=\"data row0 col3\" >FP</td>\n",
       "            </tr>\n",
       "            <tr>\n",
       "                        <th id=\"T_c38accd5_0346_11ec_b504_14abc50a4aaalevel0_row1\" class=\"row_heading level0 row1\" >1</th>\n",
       "                        <td id=\"T_c38accd5_0346_11ec_b504_14abc50a4aaarow1_col0\" class=\"data row1 col0\" >1</td>\n",
       "                        <td id=\"T_c38accd5_0346_11ec_b504_14abc50a4aaarow1_col1\" class=\"data row1 col1\" >FP</td>\n",
       "                        <td id=\"T_c38accd5_0346_11ec_b504_14abc50a4aaarow1_col2\" class=\"data row1 col2\" >TP</td>\n",
       "                        <td id=\"T_c38accd5_0346_11ec_b504_14abc50a4aaarow1_col3\" class=\"data row1 col3\" >FP</td>\n",
       "            </tr>\n",
       "            <tr>\n",
       "                        <th id=\"T_c38accd5_0346_11ec_b504_14abc50a4aaalevel0_row2\" class=\"row_heading level0 row2\" >2</th>\n",
       "                        <td id=\"T_c38accd5_0346_11ec_b504_14abc50a4aaarow2_col0\" class=\"data row2 col0\" >2</td>\n",
       "                        <td id=\"T_c38accd5_0346_11ec_b504_14abc50a4aaarow2_col1\" class=\"data row2 col1\" >FP</td>\n",
       "                        <td id=\"T_c38accd5_0346_11ec_b504_14abc50a4aaarow2_col2\" class=\"data row2 col2\" >TP</td>\n",
       "                        <td id=\"T_c38accd5_0346_11ec_b504_14abc50a4aaarow2_col3\" class=\"data row2 col3\" >FP</td>\n",
       "            </tr>\n",
       "            <tr>\n",
       "                        <th id=\"T_c38accd5_0346_11ec_b504_14abc50a4aaalevel0_row3\" class=\"row_heading level0 row3\" >3</th>\n",
       "                        <td id=\"T_c38accd5_0346_11ec_b504_14abc50a4aaarow3_col0\" class=\"data row3 col0\" >3</td>\n",
       "                        <td id=\"T_c38accd5_0346_11ec_b504_14abc50a4aaarow3_col1\" class=\"data row3 col1\" >FP</td>\n",
       "                        <td id=\"T_c38accd5_0346_11ec_b504_14abc50a4aaarow3_col2\" class=\"data row3 col2\" >TP</td>\n",
       "                        <td id=\"T_c38accd5_0346_11ec_b504_14abc50a4aaarow3_col3\" class=\"data row3 col3\" >FP</td>\n",
       "            </tr>\n",
       "            <tr>\n",
       "                        <th id=\"T_c38accd5_0346_11ec_b504_14abc50a4aaalevel0_row4\" class=\"row_heading level0 row4\" >4</th>\n",
       "                        <td id=\"T_c38accd5_0346_11ec_b504_14abc50a4aaarow4_col0\" class=\"data row4 col0\" >4</td>\n",
       "                        <td id=\"T_c38accd5_0346_11ec_b504_14abc50a4aaarow4_col1\" class=\"data row4 col1\" >FP</td>\n",
       "                        <td id=\"T_c38accd5_0346_11ec_b504_14abc50a4aaarow4_col2\" class=\"data row4 col2\" >TP</td>\n",
       "                        <td id=\"T_c38accd5_0346_11ec_b504_14abc50a4aaarow4_col3\" class=\"data row4 col3\" >FP</td>\n",
       "            </tr>\n",
       "            <tr>\n",
       "                        <th id=\"T_c38accd5_0346_11ec_b504_14abc50a4aaalevel0_row5\" class=\"row_heading level0 row5\" >5</th>\n",
       "                        <td id=\"T_c38accd5_0346_11ec_b504_14abc50a4aaarow5_col0\" class=\"data row5 col0\" >5</td>\n",
       "                        <td id=\"T_c38accd5_0346_11ec_b504_14abc50a4aaarow5_col1\" class=\"data row5 col1\" >FP</td>\n",
       "                        <td id=\"T_c38accd5_0346_11ec_b504_14abc50a4aaarow5_col2\" class=\"data row5 col2\" >TP</td>\n",
       "                        <td id=\"T_c38accd5_0346_11ec_b504_14abc50a4aaarow5_col3\" class=\"data row5 col3\" >FP</td>\n",
       "            </tr>\n",
       "            <tr>\n",
       "                        <th id=\"T_c38accd5_0346_11ec_b504_14abc50a4aaalevel0_row6\" class=\"row_heading level0 row6\" >6</th>\n",
       "                        <td id=\"T_c38accd5_0346_11ec_b504_14abc50a4aaarow6_col0\" class=\"data row6 col0\" >6</td>\n",
       "                        <td id=\"T_c38accd5_0346_11ec_b504_14abc50a4aaarow6_col1\" class=\"data row6 col1\" >FP</td>\n",
       "                        <td id=\"T_c38accd5_0346_11ec_b504_14abc50a4aaarow6_col2\" class=\"data row6 col2\" >TP</td>\n",
       "                        <td id=\"T_c38accd5_0346_11ec_b504_14abc50a4aaarow6_col3\" class=\"data row6 col3\" >FP</td>\n",
       "            </tr>\n",
       "            <tr>\n",
       "                        <th id=\"T_c38accd5_0346_11ec_b504_14abc50a4aaalevel0_row7\" class=\"row_heading level0 row7\" >7</th>\n",
       "                        <td id=\"T_c38accd5_0346_11ec_b504_14abc50a4aaarow7_col0\" class=\"data row7 col0\" >7</td>\n",
       "                        <td id=\"T_c38accd5_0346_11ec_b504_14abc50a4aaarow7_col1\" class=\"data row7 col1\" >FP</td>\n",
       "                        <td id=\"T_c38accd5_0346_11ec_b504_14abc50a4aaarow7_col2\" class=\"data row7 col2\" >TP</td>\n",
       "                        <td id=\"T_c38accd5_0346_11ec_b504_14abc50a4aaarow7_col3\" class=\"data row7 col3\" >FP</td>\n",
       "            </tr>\n",
       "            <tr>\n",
       "                        <th id=\"T_c38accd5_0346_11ec_b504_14abc50a4aaalevel0_row8\" class=\"row_heading level0 row8\" >8</th>\n",
       "                        <td id=\"T_c38accd5_0346_11ec_b504_14abc50a4aaarow8_col0\" class=\"data row8 col0\" >8</td>\n",
       "                        <td id=\"T_c38accd5_0346_11ec_b504_14abc50a4aaarow8_col1\" class=\"data row8 col1\" >FP</td>\n",
       "                        <td id=\"T_c38accd5_0346_11ec_b504_14abc50a4aaarow8_col2\" class=\"data row8 col2\" >TP</td>\n",
       "                        <td id=\"T_c38accd5_0346_11ec_b504_14abc50a4aaarow8_col3\" class=\"data row8 col3\" >FP</td>\n",
       "            </tr>\n",
       "            <tr>\n",
       "                        <th id=\"T_c38accd5_0346_11ec_b504_14abc50a4aaalevel0_row9\" class=\"row_heading level0 row9\" >9</th>\n",
       "                        <td id=\"T_c38accd5_0346_11ec_b504_14abc50a4aaarow9_col0\" class=\"data row9 col0\" >9</td>\n",
       "                        <td id=\"T_c38accd5_0346_11ec_b504_14abc50a4aaarow9_col1\" class=\"data row9 col1\" >FP</td>\n",
       "                        <td id=\"T_c38accd5_0346_11ec_b504_14abc50a4aaarow9_col2\" class=\"data row9 col2\" >TP</td>\n",
       "                        <td id=\"T_c38accd5_0346_11ec_b504_14abc50a4aaarow9_col3\" class=\"data row9 col3\" >FP</td>\n",
       "            </tr>\n",
       "            <tr>\n",
       "                        <th id=\"T_c38accd5_0346_11ec_b504_14abc50a4aaalevel0_row10\" class=\"row_heading level0 row10\" >10</th>\n",
       "                        <td id=\"T_c38accd5_0346_11ec_b504_14abc50a4aaarow10_col0\" class=\"data row10 col0\" >10</td>\n",
       "                        <td id=\"T_c38accd5_0346_11ec_b504_14abc50a4aaarow10_col1\" class=\"data row10 col1\" >FP</td>\n",
       "                        <td id=\"T_c38accd5_0346_11ec_b504_14abc50a4aaarow10_col2\" class=\"data row10 col2\" >TP</td>\n",
       "                        <td id=\"T_c38accd5_0346_11ec_b504_14abc50a4aaarow10_col3\" class=\"data row10 col3\" >FP</td>\n",
       "            </tr>\n",
       "            <tr>\n",
       "                        <th id=\"T_c38accd5_0346_11ec_b504_14abc50a4aaalevel0_row11\" class=\"row_heading level0 row11\" >11</th>\n",
       "                        <td id=\"T_c38accd5_0346_11ec_b504_14abc50a4aaarow11_col0\" class=\"data row11 col0\" >11</td>\n",
       "                        <td id=\"T_c38accd5_0346_11ec_b504_14abc50a4aaarow11_col1\" class=\"data row11 col1\" >FP</td>\n",
       "                        <td id=\"T_c38accd5_0346_11ec_b504_14abc50a4aaarow11_col2\" class=\"data row11 col2\" >TP</td>\n",
       "                        <td id=\"T_c38accd5_0346_11ec_b504_14abc50a4aaarow11_col3\" class=\"data row11 col3\" >FP</td>\n",
       "            </tr>\n",
       "            <tr>\n",
       "                        <th id=\"T_c38accd5_0346_11ec_b504_14abc50a4aaalevel0_row12\" class=\"row_heading level0 row12\" >12</th>\n",
       "                        <td id=\"T_c38accd5_0346_11ec_b504_14abc50a4aaarow12_col0\" class=\"data row12 col0\" >12</td>\n",
       "                        <td id=\"T_c38accd5_0346_11ec_b504_14abc50a4aaarow12_col1\" class=\"data row12 col1\" >FP</td>\n",
       "                        <td id=\"T_c38accd5_0346_11ec_b504_14abc50a4aaarow12_col2\" class=\"data row12 col2\" >TP</td>\n",
       "                        <td id=\"T_c38accd5_0346_11ec_b504_14abc50a4aaarow12_col3\" class=\"data row12 col3\" >FP</td>\n",
       "            </tr>\n",
       "            <tr>\n",
       "                        <th id=\"T_c38accd5_0346_11ec_b504_14abc50a4aaalevel0_row13\" class=\"row_heading level0 row13\" >13</th>\n",
       "                        <td id=\"T_c38accd5_0346_11ec_b504_14abc50a4aaarow13_col0\" class=\"data row13 col0\" >13</td>\n",
       "                        <td id=\"T_c38accd5_0346_11ec_b504_14abc50a4aaarow13_col1\" class=\"data row13 col1\" >FP</td>\n",
       "                        <td id=\"T_c38accd5_0346_11ec_b504_14abc50a4aaarow13_col2\" class=\"data row13 col2\" >TP</td>\n",
       "                        <td id=\"T_c38accd5_0346_11ec_b504_14abc50a4aaarow13_col3\" class=\"data row13 col3\" >FP</td>\n",
       "            </tr>\n",
       "            <tr>\n",
       "                        <th id=\"T_c38accd5_0346_11ec_b504_14abc50a4aaalevel0_row14\" class=\"row_heading level0 row14\" >14</th>\n",
       "                        <td id=\"T_c38accd5_0346_11ec_b504_14abc50a4aaarow14_col0\" class=\"data row14 col0\" >14</td>\n",
       "                        <td id=\"T_c38accd5_0346_11ec_b504_14abc50a4aaarow14_col1\" class=\"data row14 col1\" >FP</td>\n",
       "                        <td id=\"T_c38accd5_0346_11ec_b504_14abc50a4aaarow14_col2\" class=\"data row14 col2\" >TP</td>\n",
       "                        <td id=\"T_c38accd5_0346_11ec_b504_14abc50a4aaarow14_col3\" class=\"data row14 col3\" >FP</td>\n",
       "            </tr>\n",
       "            <tr>\n",
       "                        <th id=\"T_c38accd5_0346_11ec_b504_14abc50a4aaalevel0_row15\" class=\"row_heading level0 row15\" >15</th>\n",
       "                        <td id=\"T_c38accd5_0346_11ec_b504_14abc50a4aaarow15_col0\" class=\"data row15 col0\" >15</td>\n",
       "                        <td id=\"T_c38accd5_0346_11ec_b504_14abc50a4aaarow15_col1\" class=\"data row15 col1\" >FP</td>\n",
       "                        <td id=\"T_c38accd5_0346_11ec_b504_14abc50a4aaarow15_col2\" class=\"data row15 col2\" >TP</td>\n",
       "                        <td id=\"T_c38accd5_0346_11ec_b504_14abc50a4aaarow15_col3\" class=\"data row15 col3\" >FP</td>\n",
       "            </tr>\n",
       "            <tr>\n",
       "                        <th id=\"T_c38accd5_0346_11ec_b504_14abc50a4aaalevel0_row16\" class=\"row_heading level0 row16\" >16</th>\n",
       "                        <td id=\"T_c38accd5_0346_11ec_b504_14abc50a4aaarow16_col0\" class=\"data row16 col0\" >16</td>\n",
       "                        <td id=\"T_c38accd5_0346_11ec_b504_14abc50a4aaarow16_col1\" class=\"data row16 col1\" >FP</td>\n",
       "                        <td id=\"T_c38accd5_0346_11ec_b504_14abc50a4aaarow16_col2\" class=\"data row16 col2\" >FN</td>\n",
       "                        <td id=\"T_c38accd5_0346_11ec_b504_14abc50a4aaarow16_col3\" class=\"data row16 col3\" >FN</td>\n",
       "            </tr>\n",
       "            <tr>\n",
       "                        <th id=\"T_c38accd5_0346_11ec_b504_14abc50a4aaalevel0_row17\" class=\"row_heading level0 row17\" >17</th>\n",
       "                        <td id=\"T_c38accd5_0346_11ec_b504_14abc50a4aaarow17_col0\" class=\"data row17 col0\" >17</td>\n",
       "                        <td id=\"T_c38accd5_0346_11ec_b504_14abc50a4aaarow17_col1\" class=\"data row17 col1\" >TN</td>\n",
       "                        <td id=\"T_c38accd5_0346_11ec_b504_14abc50a4aaarow17_col2\" class=\"data row17 col2\" >FN</td>\n",
       "                        <td id=\"T_c38accd5_0346_11ec_b504_14abc50a4aaarow17_col3\" class=\"data row17 col3\" >FN</td>\n",
       "            </tr>\n",
       "            <tr>\n",
       "                        <th id=\"T_c38accd5_0346_11ec_b504_14abc50a4aaalevel0_row18\" class=\"row_heading level0 row18\" >18</th>\n",
       "                        <td id=\"T_c38accd5_0346_11ec_b504_14abc50a4aaarow18_col0\" class=\"data row18 col0\" >18</td>\n",
       "                        <td id=\"T_c38accd5_0346_11ec_b504_14abc50a4aaarow18_col1\" class=\"data row18 col1\" >TN</td>\n",
       "                        <td id=\"T_c38accd5_0346_11ec_b504_14abc50a4aaarow18_col2\" class=\"data row18 col2\" >FN</td>\n",
       "                        <td id=\"T_c38accd5_0346_11ec_b504_14abc50a4aaarow18_col3\" class=\"data row18 col3\" >FN</td>\n",
       "            </tr>\n",
       "            <tr>\n",
       "                        <th id=\"T_c38accd5_0346_11ec_b504_14abc50a4aaalevel0_row19\" class=\"row_heading level0 row19\" >19</th>\n",
       "                        <td id=\"T_c38accd5_0346_11ec_b504_14abc50a4aaarow19_col0\" class=\"data row19 col0\" >19</td>\n",
       "                        <td id=\"T_c38accd5_0346_11ec_b504_14abc50a4aaarow19_col1\" class=\"data row19 col1\" >TN</td>\n",
       "                        <td id=\"T_c38accd5_0346_11ec_b504_14abc50a4aaarow19_col2\" class=\"data row19 col2\" >FN</td>\n",
       "                        <td id=\"T_c38accd5_0346_11ec_b504_14abc50a4aaarow19_col3\" class=\"data row19 col3\" >FN</td>\n",
       "            </tr>\n",
       "            <tr>\n",
       "                        <th id=\"T_c38accd5_0346_11ec_b504_14abc50a4aaalevel0_row20\" class=\"row_heading level0 row20\" >20</th>\n",
       "                        <td id=\"T_c38accd5_0346_11ec_b504_14abc50a4aaarow20_col0\" class=\"data row20 col0\" >20</td>\n",
       "                        <td id=\"T_c38accd5_0346_11ec_b504_14abc50a4aaarow20_col1\" class=\"data row20 col1\" >TN</td>\n",
       "                        <td id=\"T_c38accd5_0346_11ec_b504_14abc50a4aaarow20_col2\" class=\"data row20 col2\" >FN</td>\n",
       "                        <td id=\"T_c38accd5_0346_11ec_b504_14abc50a4aaarow20_col3\" class=\"data row20 col3\" >FN</td>\n",
       "            </tr>\n",
       "            <tr>\n",
       "                        <th id=\"T_c38accd5_0346_11ec_b504_14abc50a4aaalevel0_row21\" class=\"row_heading level0 row21\" >21</th>\n",
       "                        <td id=\"T_c38accd5_0346_11ec_b504_14abc50a4aaarow21_col0\" class=\"data row21 col0\" >21</td>\n",
       "                        <td id=\"T_c38accd5_0346_11ec_b504_14abc50a4aaarow21_col1\" class=\"data row21 col1\" >TN</td>\n",
       "                        <td id=\"T_c38accd5_0346_11ec_b504_14abc50a4aaarow21_col2\" class=\"data row21 col2\" >FN</td>\n",
       "                        <td id=\"T_c38accd5_0346_11ec_b504_14abc50a4aaarow21_col3\" class=\"data row21 col3\" >FN</td>\n",
       "            </tr>\n",
       "            <tr>\n",
       "                        <th id=\"T_c38accd5_0346_11ec_b504_14abc50a4aaalevel0_row22\" class=\"row_heading level0 row22\" >22</th>\n",
       "                        <td id=\"T_c38accd5_0346_11ec_b504_14abc50a4aaarow22_col0\" class=\"data row22 col0\" >22</td>\n",
       "                        <td id=\"T_c38accd5_0346_11ec_b504_14abc50a4aaarow22_col1\" class=\"data row22 col1\" >TN</td>\n",
       "                        <td id=\"T_c38accd5_0346_11ec_b504_14abc50a4aaarow22_col2\" class=\"data row22 col2\" >FN</td>\n",
       "                        <td id=\"T_c38accd5_0346_11ec_b504_14abc50a4aaarow22_col3\" class=\"data row22 col3\" >FN</td>\n",
       "            </tr>\n",
       "    </tbody></table>"
      ],
      "text/plain": [
       "<pandas.io.formats.style.Styler at 0x23b26551c70>"
      ]
     },
     "execution_count": 9,
     "metadata": {},
     "output_type": "execute_result"
    }
   ],
   "source": [
    "df[\"total\"] = df[[\"without_anomaly\", \"with_anomaly\"]].min(axis=1)\n",
    "def color(x):\n",
    "    if x in {\"FP\",\"FN\"}:\n",
    "        return \"background-color: red\"\n",
    "    elif x in {\"TP\",\"TN\"}:\n",
    "        return \"background-color: green\"\n",
    "    else:\n",
    "        raise ValueError()\n",
    "        \n",
    "df.style.applymap(color, subset = [\"total\"])"
   ]
  }
 ],
 "metadata": {
  "kernelspec": {
   "display_name": "venv",
   "language": "python",
   "name": "venv"
  },
  "language_info": {
   "codemirror_mode": {
    "name": "ipython",
    "version": 3
   },
   "file_extension": ".py",
   "mimetype": "text/x-python",
   "name": "python",
   "nbconvert_exporter": "python",
   "pygments_lexer": "ipython3",
   "version": "3.8.5"
  }
 },
 "nbformat": 4,
 "nbformat_minor": 4
}
