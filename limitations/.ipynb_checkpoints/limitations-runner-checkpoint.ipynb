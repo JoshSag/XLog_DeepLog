{
 "cells": [
  {
   "cell_type": "code",
   "execution_count": null,
   "metadata": {},
   "outputs": [],
   "source": [
    "import os, re, time\n",
    "files = os.listdir()\n",
    "nbs = [nb for nb in files if re.match(\"limit_.*\\.ipynb\", nb)]\n",
    "print(nbs)"
   ]
  },
  {
   "cell_type": "code",
   "execution_count": null,
   "metadata": {},
   "outputs": [],
   "source": [
    "for nb in nbs:\n",
    "    command = \"jupyter nbconvert --to notebook --ExecutePreprocessor.timeout=-1 --execute --inplace {0}\".format(nb)\n",
    "    print(time.localtime())\n",
    "    print(command)\n",
    "    os.system(command)"
   ]
  }
 ],
 "metadata": {
  "kernelspec": {
   "display_name": "venv",
   "language": "python",
   "name": "venv"
  },
  "language_info": {
   "codemirror_mode": {
    "name": "ipython",
    "version": 3
   },
   "file_extension": ".py",
   "mimetype": "text/x-python",
   "name": "python",
   "nbconvert_exporter": "python",
   "pygments_lexer": "ipython3",
   "version": "3.8.5"
  }
 },
 "nbformat": 4,
 "nbformat_minor": 4
}
