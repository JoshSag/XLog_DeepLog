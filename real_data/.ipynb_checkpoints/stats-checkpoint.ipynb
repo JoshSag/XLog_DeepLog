{
 "cells": [
  {
   "cell_type": "code",
   "execution_count": 1,
   "metadata": {},
   "outputs": [
    {
     "name": "stdout",
     "output_type": "stream",
     "text": [
      "{'2f93b358a4625340d460553a40d831b6a03216d1.txt': 20,\n",
      " '34b88f8dc4b519672826f95ed84cc834751957fe.txt': 28,\n",
      " 'f389dc998f2d39f28eab11dd65c70b98ab2f4c9d.txt': 24}\n"
     ]
    }
   ],
   "source": [
    "import os, pprint\n",
    "\n",
    "def get_vocabulary_size(filepath):\n",
    "    text = open(filepath).read().split(\" \")\n",
    "    words = set(text)\n",
    "    vocabulary_size = len(words)\n",
    "    return vocabulary_size\n",
    "\n",
    "data_directory = \"data\"\n",
    "res = {}\n",
    "for filename in os.listdir(data_directory):\n",
    "    filepath = os.path.join(data_directory, filename)\n",
    "    vocabulary_size = get_vocabulary_size(filepath)\n",
    "    res[filename] = vocabulary_size\n",
    "    \n",
    "pprint.pprint(res)"
   ]
  }
 ],
 "metadata": {
  "kernelspec": {
   "display_name": "venv",
   "language": "python",
   "name": "venv"
  },
  "language_info": {
   "codemirror_mode": {
    "name": "ipython",
    "version": 3
   },
   "file_extension": ".py",
   "mimetype": "text/x-python",
   "name": "python",
   "nbconvert_exporter": "python",
   "pygments_lexer": "ipython3",
   "version": "3.8.5"
  }
 },
 "nbformat": 4,
 "nbformat_minor": 4
}
