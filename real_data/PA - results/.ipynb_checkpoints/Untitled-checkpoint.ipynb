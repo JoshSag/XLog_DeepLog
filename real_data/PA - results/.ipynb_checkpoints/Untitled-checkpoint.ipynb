{
 "cells": [
  {
   "cell_type": "code",
   "execution_count": 1,
   "metadata": {},
   "outputs": [],
   "source": [
    "import os, pandas as pd"
   ]
  },
  {
   "cell_type": "code",
   "execution_count": 55,
   "metadata": {},
   "outputs": [
    {
     "data": {
      "text/html": [
       "<div>\n",
       "<style scoped>\n",
       "    .dataframe tbody tr th:only-of-type {\n",
       "        vertical-align: middle;\n",
       "    }\n",
       "\n",
       "    .dataframe tbody tr th {\n",
       "        vertical-align: top;\n",
       "    }\n",
       "\n",
       "    .dataframe thead th {\n",
       "        text-align: right;\n",
       "    }\n",
       "</style>\n",
       "<table border=\"1\" class=\"dataframe\">\n",
       "  <thead>\n",
       "    <tr style=\"text-align: right;\">\n",
       "      <th></th>\n",
       "      <th>id</th>\n",
       "      <th>#workflows</th>\n",
       "      <th>cover_ratio</th>\n",
       "    </tr>\n",
       "  </thead>\n",
       "  <tbody>\n",
       "    <tr>\n",
       "      <th>0</th>\n",
       "      <td>2f93b358a4625340d460553a40d831b6a03216d1</td>\n",
       "      <td>19</td>\n",
       "      <td>0.848857</td>\n",
       "    </tr>\n",
       "    <tr>\n",
       "      <th>1</th>\n",
       "      <td>34b88f8dc4b519672826f95ed84cc834751957fe</td>\n",
       "      <td>9</td>\n",
       "      <td>0.982147</td>\n",
       "    </tr>\n",
       "    <tr>\n",
       "      <th>2</th>\n",
       "      <td>f389dc998f2d39f28eab11dd65c70b98ab2f4c9d</td>\n",
       "      <td>29</td>\n",
       "      <td>0.986721</td>\n",
       "    </tr>\n",
       "  </tbody>\n",
       "</table>\n",
       "</div>"
      ],
      "text/plain": [
       "                                         id  #workflows  cover_ratio\n",
       "0  2f93b358a4625340d460553a40d831b6a03216d1          19     0.848857\n",
       "1  34b88f8dc4b519672826f95ed84cc834751957fe           9     0.982147\n",
       "2  f389dc998f2d39f28eab11dd65c70b98ab2f4c9d          29     0.986721"
      ]
     },
     "execution_count": 55,
     "metadata": {},
     "output_type": "execute_result"
    }
   ],
   "source": [
    "def parse(d):\n",
    "    workflows_path = os.path.join(d, \"workflows.csv\")\n",
    "    cover_path = os.path.join(d, \"cover_ratio.txt\")\n",
    "    if not os.path.isfile(workflows_path):\n",
    "        return {}\n",
    "    num_workflows = len(pd.read_csv(workflows_path))\n",
    "    cover_ratio = float(open(cover_path).read())\n",
    "    return {\"id\" : d,\n",
    "            \"#workflows\" : num_workflows,\n",
    "            \"cover_ratio\": cover_ratio}\n",
    "\n",
    "df = pd.DataFrame([parse(d) for d in os.listdir()]).dropna().reset_index(drop=True)\n",
    "df[\"#workflows\"] = df[\"#workflows\"].astype(int)\n",
    "df"
   ]
  }
 ],
 "metadata": {
  "kernelspec": {
   "display_name": "venv",
   "language": "python",
   "name": "venv"
  },
  "language_info": {
   "codemirror_mode": {
    "name": "ipython",
    "version": 3
   },
   "file_extension": ".py",
   "mimetype": "text/x-python",
   "name": "python",
   "nbconvert_exporter": "python",
   "pygments_lexer": "ipython3",
   "version": "3.8.5"
  }
 },
 "nbformat": 4,
 "nbformat_minor": 4
}
