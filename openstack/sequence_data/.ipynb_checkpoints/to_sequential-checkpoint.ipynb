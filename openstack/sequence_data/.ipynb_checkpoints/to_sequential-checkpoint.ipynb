{
 "cells": [
  {
   "cell_type": "code",
   "execution_count": 1,
   "metadata": {},
   "outputs": [],
   "source": [
    "import os, pandas as pd"
   ]
  },
  {
   "cell_type": "code",
   "execution_count": 3,
   "metadata": {},
   "outputs": [],
   "source": [
    "structure_data = os.path.join(\"..\", \"structure_data\")\n",
    "sequence_data = \".\"\n",
    "for filename in os.listdir(structure_data):\n",
    "    if not filename.endswith(\"csv\"):\n",
    "        continue\n",
    "    basename = os.path.splitext(filename)[0]\n",
    "    df = pd.read_csv(os.path.join(structure_data, filename))\n",
    "    operations = df[\"op_id\"].to_list()\n",
    "    operations_str = \" \".join(operations)\n",
    "    open(os.path.join(sequence_data, \"{}.txt\".format(basename)), \"w\").write(operations_str)"
   ]
  }
 ],
 "metadata": {
  "kernelspec": {
   "display_name": "venv",
   "language": "python",
   "name": "venv"
  },
  "language_info": {
   "codemirror_mode": {
    "name": "ipython",
    "version": 3
   },
   "file_extension": ".py",
   "mimetype": "text/x-python",
   "name": "python",
   "nbconvert_exporter": "python",
   "pygments_lexer": "ipython3",
   "version": "3.8.5"
  }
 },
 "nbformat": 4,
 "nbformat_minor": 4
}
