{
 "cells": [
  {
   "cell_type": "code",
   "execution_count": 1,
   "metadata": {},
   "outputs": [],
   "source": [
    "import os\n",
    "import re\n",
    "import pandas as pd\n",
    "import collections"
   ]
  },
  {
   "cell_type": "code",
   "execution_count": 2,
   "metadata": {},
   "outputs": [
    {
     "name": "stdout",
     "output_type": "stream",
     "text": [
      "openstack_val_n1\n",
      "openstack_val_n2\n"
     ]
    }
   ],
   "source": [
    "raw_data = os.path.join(\"..\", \"raw_data\")\n",
    "structure_data = os.path.join(\".\")\n",
    "\n",
    "def structre_line(index, line):\n",
    "    r = re.search(\".*?instance: (.*?)\\] (.*)\",line)\n",
    "    if r is None:\n",
    "        return [None, None, None]\n",
    "    entry = [index] + list(r.groups())\n",
    "    entry[2] = re.sub(\"\\d+.?\\d* ?\",\"\",entry[2])\n",
    "    entry[2] = re.sub(\" /\\S+\",\"\",entry[2])\n",
    "    return entry\n",
    "    \n",
    "def structre_file(dir_in, dir_out, filename):\n",
    "    filepath_in = os.path.join(dir_in, filename)\n",
    "    lines = open(filepath_in).readlines()\n",
    "    entries = [structre_line(index, line) for index, line in enumerate(lines)]\n",
    "    return pd.DataFrame(entries, columns = [\"line_index\", \"instance\", \"operation\"])\n",
    "\n",
    "def clean_df(df):\n",
    "    df=df.dropna().reset_index(drop=True)\n",
    "    def map_ops(df):\n",
    "        df_op = df.groupby(\"operation\").apply(lambda grp: pd.Series({\"op_id_\" : grp[\"line_index\"].min()})).reset_index()\n",
    "        df_op.sort_values(\"op_id_\",inplace=True)\n",
    "        df_op[\"op_id\"] = [\"s{}\".format(i) for i in range(len(df_op))]\n",
    "        df_op = df_op.drop(\"op_id_\", axis=1)\n",
    "        df = pd.merge(df, df_op, on=\"operation\")\n",
    "        return df\n",
    "    df = map_ops(df)\n",
    "    df = df.sort_values(by=[\"instance\",\"line_index\"])\n",
    "    return df\n",
    "        \n",
    "for filename in os.listdir(raw_data):\n",
    "    print(filename)\n",
    "    df = structre_file(dir_in=raw_data, dir_out=structure_data, filename=filename)\n",
    "    df = clean_df(df)\n",
    "    df.to_csv(os.path.join(structure_data, \"{}.csv\".format(filename)))"
   ]
  },
  {
   "cell_type": "code",
   "execution_count": null,
   "metadata": {},
   "outputs": [],
   "source": []
  }
 ],
 "metadata": {
  "kernelspec": {
   "display_name": "venv",
   "language": "python",
   "name": "venv"
  },
  "language_info": {
   "codemirror_mode": {
    "name": "ipython",
    "version": 3
   },
   "file_extension": ".py",
   "mimetype": "text/x-python",
   "name": "python",
   "nbconvert_exporter": "python",
   "pygments_lexer": "ipython3",
   "version": "3.8.5"
  }
 },
 "nbformat": 4,
 "nbformat_minor": 4
}
