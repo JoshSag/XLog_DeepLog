{
 "cells": [
  {
   "cell_type": "code",
   "execution_count": 1,
   "metadata": {},
   "outputs": [],
   "source": [
    "import pandas as pd\n",
    "import os\n",
    "import json"
   ]
  },
  {
   "cell_type": "code",
   "execution_count": 2,
   "metadata": {},
   "outputs": [],
   "source": [
    "def _groupby_instance_sequence(grp):\n",
    "    return pd.Series({\"sequence\" : \" \".join(grp[\"op_id\"].to_list())})\n",
    "\n",
    "def _groupby_sequence_occ(grp):\n",
    "    return pd.Series({\"occ\" : len(grp)})\n",
    "\n",
    "def sequences_and_frequencies(df_sequence_occ):\n",
    "    good_df_sequnce = df_sequence_occ[df_sequence_occ[\"occ\"] > 2]\n",
    "    sequences = good_df_sequnce[\"sequence\"].apply(lambda x: tuple(x.split(\" \")))\n",
    "    p = good_df_sequnce[\"occ\"]/sum(good_df_sequnce[\"occ\"])\n",
    "    return sequences.to_list(), p.to_list()\n",
    "\n",
    "def _flat(LOL):\n",
    "    return [e for L in LOL for e in L]\n",
    "\n",
    "def to_patterns(filepath):\n",
    "    df=pd.read_csv(filepath).drop(\"Unnamed: 0\", axis=1)\n",
    "    df_instance_sequence = df.groupby(\"instance\").apply(_groupby_instance_sequence).reset_index()\n",
    "    df_sequence_occ = df_instance_sequence.groupby(\"sequence\").apply(_groupby_sequence_occ).reset_index()\n",
    "    \n",
    "    patterns, p = sequences_and_frequencies(df_sequence_occ)\n",
    "    vocabulary = list(set(_flat(patterns)))\n",
    "    \n",
    "    return vocabulary, patterns, p\n",
    "\n",
    "def write(filename, vocabulary, patterns, p, dir_out):\n",
    "    data = { \n",
    "        \"original_filename\" : filename,\n",
    "        \"vocabulary\" : vocabulary,\n",
    "        \"patterns\" : patterns, \n",
    "        \"p\" : p\n",
    "    }\n",
    "    os.makedirs(dir_out, exist_ok=True)\n",
    "    pathout = os.path.join(dir_out, \"sim_{}.json\".format(filename))\n",
    "    json.dump(data, open(pathout, \"w\"))\n",
    "\n",
    "def read(filename, dir_in):\n",
    "    pathin = os.path.join(dir_in, \"sim_{}.json\".format(filename))\n",
    "    assert os.path.isfile(pathin)\n",
    "    data = json.loads(open(pathin).read())\n",
    "    \n",
    "    patterns = data[\"patterns\"]\n",
    "    patterns = [tuple(p) for p in patterns]\n",
    "    \n",
    "    return data[\"vocabulary\"], patterns, data[\"p\"]\n",
    "    "
   ]
  },
  {
   "cell_type": "code",
   "execution_count": 3,
   "metadata": {},
   "outputs": [],
   "source": [
    "def make_static_params(filename):\n",
    "    dir_out = \"..\\\\static-openstack\"\n",
    "    vocabulary, patterns, p = to_patterns(\"{}.csv\".format(filename))\n",
    "    \n",
    "    write(filename, vocabulary, patterns, p, dir_out)\n",
    "    \n",
    "    ret_vocabulary, ret_patterns, ret_p = read(filename, dir_out)\n",
    "    assert ret_vocabulary == vocabulary\n",
    "    assert ret_patterns == patterns\n",
    "    assert ret_p == p"
   ]
  },
  {
   "cell_type": "code",
   "execution_count": 4,
   "metadata": {},
   "outputs": [],
   "source": [
    "for filename in [\"openstack_val_n1\", \"openstack_val_n2\"]:\n",
    "    make_static_params(filename)"
   ]
  },
  {
   "cell_type": "code",
   "execution_count": null,
   "metadata": {},
   "outputs": [],
   "source": []
  },
  {
   "cell_type": "code",
   "execution_count": null,
   "metadata": {},
   "outputs": [],
   "source": []
  }
 ],
 "metadata": {
  "kernelspec": {
   "display_name": "venv",
   "language": "python",
   "name": "venv"
  },
  "language_info": {
   "codemirror_mode": {
    "name": "ipython",
    "version": 3
   },
   "file_extension": ".py",
   "mimetype": "text/x-python",
   "name": "python",
   "nbconvert_exporter": "python",
   "pygments_lexer": "ipython3",
   "version": "3.8.5"
  }
 },
 "nbformat": 4,
 "nbformat_minor": 4
}
