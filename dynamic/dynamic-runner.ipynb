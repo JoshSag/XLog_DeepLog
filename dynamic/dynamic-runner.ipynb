{
 "cells": [
  {
   "cell_type": "code",
   "execution_count": 1,
   "metadata": {},
   "outputs": [
    {
     "data": {
      "text/plain": [
       "['dynamic-1.ipynb',\n",
       " 'dynamic-2.ipynb',\n",
       " 'dynamic-3.ipynb',\n",
       " 'dynamic-4.ipynb',\n",
       " 'dynamic-5.ipynb',\n",
       " 'dynamic-6.ipynb']"
      ]
     },
     "execution_count": 1,
     "metadata": {},
     "output_type": "execute_result"
    }
   ],
   "source": [
    "import os, re, time\n",
    "files = os.listdir()\n",
    "nbs = [nb for nb in files if re.match(\"dynamic-\\d+\\.ipynb\", nb)]\n",
    "nbs"
   ]
  },
  {
   "cell_type": "code",
   "execution_count": 2,
   "metadata": {},
   "outputs": [
    {
     "name": "stdout",
     "output_type": "stream",
     "text": [
      "time.struct_time(tm_year=2021, tm_mon=9, tm_mday=13, tm_hour=19, tm_min=45, tm_sec=25, tm_wday=0, tm_yday=256, tm_isdst=1)\n",
      "\t jupyter nbconvert --to notebook --ExecutePreprocessor.timeout=-1 --execute --inplace dynamic-1.ipynb\n",
      "time.struct_time(tm_year=2021, tm_mon=9, tm_mday=13, tm_hour=20, tm_min=41, tm_sec=14, tm_wday=0, tm_yday=256, tm_isdst=1)\n",
      "\t jupyter nbconvert --to notebook --ExecutePreprocessor.timeout=-1 --execute --inplace dynamic-2.ipynb\n",
      "time.struct_time(tm_year=2021, tm_mon=9, tm_mday=13, tm_hour=21, tm_min=7, tm_sec=36, tm_wday=0, tm_yday=256, tm_isdst=1)\n",
      "\t jupyter nbconvert --to notebook --ExecutePreprocessor.timeout=-1 --execute --inplace dynamic-3.ipynb\n",
      "time.struct_time(tm_year=2021, tm_mon=9, tm_mday=13, tm_hour=21, tm_min=53, tm_sec=7, tm_wday=0, tm_yday=256, tm_isdst=1)\n",
      "\t jupyter nbconvert --to notebook --ExecutePreprocessor.timeout=-1 --execute --inplace dynamic-4.ipynb\n",
      "time.struct_time(tm_year=2021, tm_mon=9, tm_mday=13, tm_hour=22, tm_min=21, tm_sec=17, tm_wday=0, tm_yday=256, tm_isdst=1)\n",
      "\t jupyter nbconvert --to notebook --ExecutePreprocessor.timeout=-1 --execute --inplace dynamic-5.ipynb\n",
      "time.struct_time(tm_year=2021, tm_mon=9, tm_mday=13, tm_hour=23, tm_min=7, tm_sec=12, tm_wday=0, tm_yday=256, tm_isdst=1)\n",
      "\t jupyter nbconvert --to notebook --ExecutePreprocessor.timeout=-1 --execute --inplace dynamic-6.ipynb\n"
     ]
    }
   ],
   "source": [
    "for nb in nbs:\n",
    "    command = \"jupyter nbconvert --to notebook --ExecutePreprocessor.timeout=-1 --execute --inplace {0}\".format(nb)\n",
    "    print(time.localtime())\n",
    "    print(\"\\t\",command)\n",
    "    os.system(command)"
   ]
  },
  {
   "cell_type": "code",
   "execution_count": null,
   "metadata": {},
   "outputs": [],
   "source": []
  }
 ],
 "metadata": {
  "kernelspec": {
   "display_name": "venv",
   "language": "python",
   "name": "venv"
  },
  "language_info": {
   "codemirror_mode": {
    "name": "ipython",
    "version": 3
   },
   "file_extension": ".py",
   "mimetype": "text/x-python",
   "name": "python",
   "nbconvert_exporter": "python",
   "pygments_lexer": "ipython3",
   "version": "3.8.5"
  }
 },
 "nbformat": 4,
 "nbformat_minor": 4
}
