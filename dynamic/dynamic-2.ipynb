{
 "cells": [
  {
   "cell_type": "code",
   "execution_count": 1,
   "metadata": {},
   "outputs": [
    {
     "data": {
      "text/plain": [
       "time.struct_time(tm_year=2021, tm_mon=9, tm_mday=13, tm_hour=17, tm_min=41, tm_sec=18, tm_wday=0, tm_yday=256, tm_isdst=0)"
      ]
     },
     "execution_count": 1,
     "metadata": {},
     "output_type": "execute_result"
    }
   ],
   "source": [
    "import time\n",
    "time.gmtime()"
   ]
  },
  {
   "cell_type": "code",
   "execution_count": 2,
   "metadata": {},
   "outputs": [],
   "source": [
    "import os,sys,inspect\n",
    "currentdir = os.path.dirname(os.path.abspath(inspect.getfile(inspect.currentframe())))\n",
    "parentdir = os.path.dirname(currentdir)\n",
    "sys.path.insert(0,parentdir) "
   ]
  },
  {
   "cell_type": "code",
   "execution_count": 3,
   "metadata": {},
   "outputs": [],
   "source": [
    "import pandas as pd\n",
    "import itertools, collections\n",
    "import time\n",
    "import numpy as np\n",
    "\n",
    "from _code import DeepLogModel\n",
    "from _code import generator\n",
    "from _code import seed\n",
    "from _code import trie"
   ]
  },
  {
   "cell_type": "code",
   "execution_count": 4,
   "metadata": {},
   "outputs": [],
   "source": [
    "### Parameters\n",
    "_seed=2\n",
    "subdir = \"dynamic-2\"\n",
    "vocabulary_size = 10\n",
    "num_patterns = 20\n",
    "num_new_patterns = 3"
   ]
  },
  {
   "cell_type": "code",
   "execution_count": 5,
   "metadata": {},
   "outputs": [],
   "source": [
    "seed.seed(_seed)\n",
    "subdir = subdir"
   ]
  },
  {
   "cell_type": "code",
   "execution_count": 6,
   "metadata": {},
   "outputs": [
    {
     "name": "stdout",
     "output_type": "stream",
     "text": [
      "trie-g: 8\n",
      "trie-h: 4\n"
     ]
    }
   ],
   "source": [
    "vocabulary_size = vocabulary_size\n",
    "num_patterns = num_patterns\n",
    "vocabulary = generator.make_vocabulary(vocabulary_size=vocabulary_size)\n",
    "patterns = generator.generate_patterns(num_patterns=num_patterns, vocabulary=vocabulary, min_pattern_size=3, max_pattern_size=7)\n",
    "trie_g = trie.calc_g_value(patterns)\n",
    "trie_h = trie.calc_h_value(patterns)\n",
    "print(\"trie-g:\", trie_g)\n",
    "print(\"trie-h:\", trie_h)\n",
    "text_train, marks_train = generator.generate_text(patterns, text_size=50000, anomaly_ratio=0.00, vocabulary=vocabulary) \n",
    "tests1 = generator.generate_tests(patterns, vocabulary, n=700, text_size = 4, anomaly_ratio=0.1)"
   ]
  },
  {
   "cell_type": "code",
   "execution_count": 7,
   "metadata": {},
   "outputs": [],
   "source": [
    "import json, os\n",
    "\n",
    "def write_inputs1(subdir, vocabulary_size, vocabulary, patterns, text_train, marks_train, tests):\n",
    "    dir_= os.path.join(\"..\\\\inputs\", subdir)\n",
    "    os.makedirs(dir_, exist_ok=True)\n",
    "    j1={\n",
    "        \"vocabulary_size\" : vocabulary_size,\n",
    "        \"vocabulary\" : vocabulary,\n",
    "        \"workflows\" : patterns\n",
    "    }\n",
    "    json.dump(j1, open(os.path.join(dir_, \"v-wf.json\"), \"w\"))\n",
    "\n",
    "    j2 = {\"text_train\" : text_train, \"marks_train\" : marks_train}\n",
    "    json.dump(j2, open(os.path.join(dir_, \"train.json\"), \"w\"))\n",
    "\n",
    "    j3 = {\"tests\" : tests}\n",
    "    json.dump(j3, open(os.path.join(dir_, \"tests1.json\"), \"w\"))\n",
    "\n",
    "def read_inputs1(subdir):\n",
    "    dir_ = os.path.join(\"..\\\\inputs\", subdir)\n",
    "    j1 = json.load(open(os.path.join(dir_, \"v-wf.json\")))\n",
    "    j2 = json.load(open(os.path.join(dir_, \"train.json\")))\n",
    "    j3 = json.load(open(os.path.join(dir_, \"tests1.json\")))\n",
    "    \n",
    "    vocabulary_size = j1[\"vocabulary_size\"]\n",
    "    vocabulary = j1[\"vocabulary\"]\n",
    "    patterns = j1[\"workflows\"]\n",
    "    patterns = [tuple(p) for p in patterns]\n",
    "    \n",
    "    text_train = j2[\"text_train\"]\n",
    "    marks_train = j2[\"marks_train\"]\n",
    "    \n",
    "    tests_str_keys = j3[\"tests\"]\n",
    "    tests = dict()\n",
    "    for k,v in tests_str_keys.items():\n",
    "        tests[int(k)] = tuple(v)\n",
    "    \n",
    "    \n",
    "    return vocabulary_size, vocabulary, patterns, text_train, marks_train, tests\n",
    "\n",
    "write_inputs1(subdir, vocabulary_size, vocabulary, patterns, text_train, marks_train, tests1)"
   ]
  },
  {
   "cell_type": "code",
   "execution_count": 8,
   "metadata": {},
   "outputs": [],
   "source": [
    "ret_vocabulary_size, ret_vocabulary, ret_patterns, ret_text_train, ret_marks_train, ret_tests1 = read_inputs1(subdir)\n",
    "\n",
    "assert ret_vocabulary_size == vocabulary_size\n",
    "assert ret_vocabulary == vocabulary\n",
    "assert ret_patterns == patterns\n",
    "assert ret_text_train == text_train\n",
    "assert ret_marks_train == marks_train\n",
    "assert ret_tests1 == tests1\n"
   ]
  },
  {
   "cell_type": "code",
   "execution_count": 9,
   "metadata": {},
   "outputs": [
    {
     "data": {
      "text/plain": [
       "<_code.DeepLogModel.HistoryLoss at 0x21912ffb7c0>"
      ]
     },
     "execution_count": 9,
     "metadata": {},
     "output_type": "execute_result"
    }
   ],
   "source": [
    "deep_log_model = DeepLogModel.DeepLogModel(h=trie_h+1, n=vocabulary_size, vocabulary=vocabulary)\n",
    "deep_log_model.build(num_lstm_layers=2, lstm_size=64)\n",
    "deep_log_model.fit(text_train,epochs=1)"
   ]
  },
  {
   "cell_type": "code",
   "execution_count": 10,
   "metadata": {},
   "outputs": [
    {
     "name": "stdout",
     "output_type": "stream",
     "text": [
      "time: 364.029 seconds\n"
     ]
    }
   ],
   "source": [
    "b = time.time()\n",
    "entries = list()\n",
    "for k, (text_test, text_marks, anomaly) in tests1.items():\n",
    "    for g in range(0, vocabulary_size+1):\n",
    "        res = deep_log_model.monitor_session(text_test, text_marks, g=g)\n",
    "        entry = (k,g,res)\n",
    "        entries.append(entry)\n",
    "e = time.time()\n",
    "print(\"time:\", round(e-b,3), \"seconds\")"
   ]
  },
  {
   "cell_type": "code",
   "execution_count": 11,
   "metadata": {},
   "outputs": [
    {
     "name": "stdout",
     "output_type": "stream",
     "text": [
      "measure results for each g-value\n"
     ]
    },
    {
     "data": {
      "text/html": [
       "<div>\n",
       "<style scoped>\n",
       "    .dataframe tbody tr th:only-of-type {\n",
       "        vertical-align: middle;\n",
       "    }\n",
       "\n",
       "    .dataframe tbody tr th {\n",
       "        vertical-align: top;\n",
       "    }\n",
       "\n",
       "    .dataframe thead th {\n",
       "        text-align: right;\n",
       "    }\n",
       "</style>\n",
       "<table border=\"1\" class=\"dataframe\">\n",
       "  <thead>\n",
       "    <tr style=\"text-align: right;\">\n",
       "      <th></th>\n",
       "      <th>prec</th>\n",
       "      <th>rec</th>\n",
       "      <th>acc</th>\n",
       "      <th>f1</th>\n",
       "      <th>TP</th>\n",
       "      <th>TN</th>\n",
       "      <th>FP</th>\n",
       "      <th>FN</th>\n",
       "    </tr>\n",
       "  </thead>\n",
       "  <tbody>\n",
       "    <tr>\n",
       "      <th>0</th>\n",
       "      <td>0.271429</td>\n",
       "      <td>1.000000</td>\n",
       "      <td>0.271429</td>\n",
       "      <td>0.426966</td>\n",
       "      <td>190</td>\n",
       "      <td>0</td>\n",
       "      <td>510</td>\n",
       "      <td>0</td>\n",
       "    </tr>\n",
       "    <tr>\n",
       "      <th>1</th>\n",
       "      <td>0.271817</td>\n",
       "      <td>1.000000</td>\n",
       "      <td>0.272857</td>\n",
       "      <td>0.427447</td>\n",
       "      <td>190</td>\n",
       "      <td>1</td>\n",
       "      <td>509</td>\n",
       "      <td>0</td>\n",
       "    </tr>\n",
       "    <tr>\n",
       "      <th>2</th>\n",
       "      <td>0.275912</td>\n",
       "      <td>0.994737</td>\n",
       "      <td>0.290000</td>\n",
       "      <td>0.432000</td>\n",
       "      <td>189</td>\n",
       "      <td>14</td>\n",
       "      <td>496</td>\n",
       "      <td>1</td>\n",
       "    </tr>\n",
       "    <tr>\n",
       "      <th>3</th>\n",
       "      <td>0.303079</td>\n",
       "      <td>0.984211</td>\n",
       "      <td>0.381429</td>\n",
       "      <td>0.463445</td>\n",
       "      <td>187</td>\n",
       "      <td>80</td>\n",
       "      <td>430</td>\n",
       "      <td>3</td>\n",
       "    </tr>\n",
       "    <tr>\n",
       "      <th>4</th>\n",
       "      <td>0.373444</td>\n",
       "      <td>0.947368</td>\n",
       "      <td>0.554286</td>\n",
       "      <td>0.535714</td>\n",
       "      <td>180</td>\n",
       "      <td>208</td>\n",
       "      <td>302</td>\n",
       "      <td>10</td>\n",
       "    </tr>\n",
       "    <tr>\n",
       "      <th>5</th>\n",
       "      <td>0.439153</td>\n",
       "      <td>0.873684</td>\n",
       "      <td>0.662857</td>\n",
       "      <td>0.584507</td>\n",
       "      <td>166</td>\n",
       "      <td>298</td>\n",
       "      <td>212</td>\n",
       "      <td>24</td>\n",
       "    </tr>\n",
       "    <tr>\n",
       "      <th>6</th>\n",
       "      <td>0.554264</td>\n",
       "      <td>0.752632</td>\n",
       "      <td>0.768571</td>\n",
       "      <td>0.638393</td>\n",
       "      <td>143</td>\n",
       "      <td>395</td>\n",
       "      <td>115</td>\n",
       "      <td>47</td>\n",
       "    </tr>\n",
       "    <tr>\n",
       "      <th>7</th>\n",
       "      <td>0.668478</td>\n",
       "      <td>0.647368</td>\n",
       "      <td>0.817143</td>\n",
       "      <td>0.657754</td>\n",
       "      <td>123</td>\n",
       "      <td>449</td>\n",
       "      <td>61</td>\n",
       "      <td>67</td>\n",
       "    </tr>\n",
       "    <tr>\n",
       "      <th>8</th>\n",
       "      <td>1.000000</td>\n",
       "      <td>0.473684</td>\n",
       "      <td>0.857143</td>\n",
       "      <td>0.642857</td>\n",
       "      <td>90</td>\n",
       "      <td>510</td>\n",
       "      <td>0</td>\n",
       "      <td>100</td>\n",
       "    </tr>\n",
       "    <tr>\n",
       "      <th>9</th>\n",
       "      <td>1.000000</td>\n",
       "      <td>0.247368</td>\n",
       "      <td>0.795714</td>\n",
       "      <td>0.396624</td>\n",
       "      <td>47</td>\n",
       "      <td>510</td>\n",
       "      <td>0</td>\n",
       "      <td>143</td>\n",
       "    </tr>\n",
       "    <tr>\n",
       "      <th>10</th>\n",
       "      <td>0.000000</td>\n",
       "      <td>0.000000</td>\n",
       "      <td>0.728571</td>\n",
       "      <td>0.000000</td>\n",
       "      <td>0</td>\n",
       "      <td>510</td>\n",
       "      <td>0</td>\n",
       "      <td>190</td>\n",
       "    </tr>\n",
       "  </tbody>\n",
       "</table>\n",
       "</div>"
      ],
      "text/plain": [
       "        prec       rec       acc        f1   TP   TN   FP   FN\n",
       "0   0.271429  1.000000  0.271429  0.426966  190    0  510    0\n",
       "1   0.271817  1.000000  0.272857  0.427447  190    1  509    0\n",
       "2   0.275912  0.994737  0.290000  0.432000  189   14  496    1\n",
       "3   0.303079  0.984211  0.381429  0.463445  187   80  430    3\n",
       "4   0.373444  0.947368  0.554286  0.535714  180  208  302   10\n",
       "5   0.439153  0.873684  0.662857  0.584507  166  298  212   24\n",
       "6   0.554264  0.752632  0.768571  0.638393  143  395  115   47\n",
       "7   0.668478  0.647368  0.817143  0.657754  123  449   61   67\n",
       "8   1.000000  0.473684  0.857143  0.642857   90  510    0  100\n",
       "9   1.000000  0.247368  0.795714  0.396624   47  510    0  143\n",
       "10  0.000000  0.000000  0.728571  0.000000    0  510    0  190"
      ]
     },
     "execution_count": 11,
     "metadata": {},
     "output_type": "execute_result"
    }
   ],
   "source": [
    "df1 = pd.DataFrame(entries, columns = [\"i\",\"g\",\"status\"])\n",
    "ddf1 = df1.pivot_table(index=\"i\", columns = \"g\", values = \"status\", aggfunc = \"sum\")\n",
    "def calc(s):\n",
    "    c = dict(collections.Counter(s))\n",
    "    TP = c.get(\"TP\", 0)\n",
    "    TN = c.get(\"TN\", 0)\n",
    "    FP = c.get(\"FP\", 0)\n",
    "    FN = c.get(\"FN\", 0)\n",
    "    eps = 1e-9\n",
    "    \n",
    "    prec = TP / (TP + FP + eps)\n",
    "    rec = TP / (TP + FN + eps)\n",
    "    acc = (TP + TN) / (TP + TN + FP + FN + eps)\n",
    "    f1 = 2*(prec*rec)/(prec+rec+eps)\n",
    "    \n",
    "    return {\"prec\" : prec, \"rec\" : rec, \"acc\" : acc, \"f1\" : f1, \"TP\" : TP, \"TN\" : TN, \"FP\" : FP, \"FN\" : FN}\n",
    "    \n",
    "e=ddf1.apply(calc, axis=0)\n",
    "e1=pd.DataFrame(list(e.values))\n",
    "\n",
    "print(\"measure results for each g-value\")\n",
    "e1"
   ]
  },
  {
   "cell_type": "code",
   "execution_count": 12,
   "metadata": {},
   "outputs": [
    {
     "data": {
      "text/html": [
       "<div>\n",
       "<style scoped>\n",
       "    .dataframe tbody tr th:only-of-type {\n",
       "        vertical-align: middle;\n",
       "    }\n",
       "\n",
       "    .dataframe tbody tr th {\n",
       "        vertical-align: top;\n",
       "    }\n",
       "\n",
       "    .dataframe thead th {\n",
       "        text-align: right;\n",
       "    }\n",
       "</style>\n",
       "<table border=\"1\" class=\"dataframe\">\n",
       "  <thead>\n",
       "    <tr style=\"text-align: right;\">\n",
       "      <th></th>\n",
       "      <th>prec</th>\n",
       "      <th>rec</th>\n",
       "      <th>acc</th>\n",
       "      <th>f1</th>\n",
       "      <th>TP</th>\n",
       "      <th>TN</th>\n",
       "      <th>FP</th>\n",
       "      <th>FN</th>\n",
       "    </tr>\n",
       "  </thead>\n",
       "  <tbody>\n",
       "    <tr>\n",
       "      <th>8</th>\n",
       "      <td>1.0</td>\n",
       "      <td>0.473684</td>\n",
       "      <td>0.857143</td>\n",
       "      <td>0.642857</td>\n",
       "      <td>90</td>\n",
       "      <td>510</td>\n",
       "      <td>0</td>\n",
       "      <td>100</td>\n",
       "    </tr>\n",
       "  </tbody>\n",
       "</table>\n",
       "</div>"
      ],
      "text/plain": [
       "   prec       rec       acc        f1  TP   TN  FP   FN\n",
       "8   1.0  0.473684  0.857143  0.642857  90  510   0  100"
      ]
     },
     "metadata": {},
     "output_type": "display_data"
    },
    {
     "data": {
      "text/html": [
       "<div>\n",
       "<style scoped>\n",
       "    .dataframe tbody tr th:only-of-type {\n",
       "        vertical-align: middle;\n",
       "    }\n",
       "\n",
       "    .dataframe tbody tr th {\n",
       "        vertical-align: top;\n",
       "    }\n",
       "\n",
       "    .dataframe thead th {\n",
       "        text-align: right;\n",
       "    }\n",
       "</style>\n",
       "<table border=\"1\" class=\"dataframe\">\n",
       "  <thead>\n",
       "    <tr style=\"text-align: right;\">\n",
       "      <th></th>\n",
       "      <th>prec</th>\n",
       "      <th>rec</th>\n",
       "      <th>acc</th>\n",
       "      <th>f1</th>\n",
       "      <th>TP</th>\n",
       "      <th>TN</th>\n",
       "      <th>FP</th>\n",
       "      <th>FN</th>\n",
       "    </tr>\n",
       "  </thead>\n",
       "  <tbody>\n",
       "    <tr>\n",
       "      <th>7</th>\n",
       "      <td>0.668478</td>\n",
       "      <td>0.647368</td>\n",
       "      <td>0.817143</td>\n",
       "      <td>0.657754</td>\n",
       "      <td>123</td>\n",
       "      <td>449</td>\n",
       "      <td>61</td>\n",
       "      <td>67</td>\n",
       "    </tr>\n",
       "  </tbody>\n",
       "</table>\n",
       "</div>"
      ],
      "text/plain": [
       "       prec       rec       acc        f1   TP   TN  FP  FN\n",
       "7  0.668478  0.647368  0.817143  0.657754  123  449  61  67"
      ]
     },
     "metadata": {},
     "output_type": "display_data"
    }
   ],
   "source": [
    "### finding emprical best g\n",
    "display(e1.loc[[e1[\"acc\"].argmax()]])\n",
    "display(e1.loc[[e1[\"f1\"].argmax()]])"
   ]
  },
  {
   "cell_type": "code",
   "execution_count": 13,
   "metadata": {},
   "outputs": [
    {
     "name": "stdout",
     "output_type": "stream",
     "text": [
      "best-g 7\n"
     ]
    }
   ],
   "source": [
    "best_g = e1[\"f1\"].argmax()\n",
    "print(\"best-g\", best_g)"
   ]
  },
  {
   "cell_type": "markdown",
   "metadata": {},
   "source": [
    "## online_cases"
   ]
  },
  {
   "cell_type": "code",
   "execution_count": 14,
   "metadata": {},
   "outputs": [],
   "source": [
    "num_new_patterns = num_new_patterns\n",
    "new_patterns = generator.generate_patterns(num_patterns=num_new_patterns, vocabulary=vocabulary, min_pattern_size=3, max_pattern_size=7)\n",
    "\n",
    "online_cases = generator.generate_tests(patterns + new_patterns, vocabulary, n=10000, text_size = 4, anomaly_ratio=0.0)    "
   ]
  },
  {
   "cell_type": "code",
   "execution_count": 15,
   "metadata": {},
   "outputs": [],
   "source": [
    "def write_inputs2(subdir, online_cases):\n",
    "    dir_= os.path.join(\"..\\\\inputs\", subdir)\n",
    "    os.makedirs(dir_, exist_ok=True)\n",
    "    \n",
    "    j4 = {\"online_cases\" : online_cases}\n",
    "    json.dump(j4, open(os.path.join(dir_, \"online_cases.json\"), \"w\"))\n",
    "\n",
    "def read_inputs2(subdir):\n",
    "    dir_ = os.path.join(\"..\\\\inputs\", subdir)\n",
    "    \n",
    "    j4 = json.load(open(os.path.join(dir_, \"online_cases.json\")))\n",
    "    online_cases_str_keys = j4[\"online_cases\"]\n",
    "    online_cases = dict()\n",
    "    for k,v in online_cases_str_keys.items():\n",
    "        online_cases[int(k)] = tuple(v)\n",
    "\n",
    "    return online_cases"
   ]
  },
  {
   "cell_type": "code",
   "execution_count": 16,
   "metadata": {},
   "outputs": [],
   "source": [
    "write_inputs2(subdir, online_cases)\n",
    "ret_online_cases = read_inputs2(subdir)\n",
    "assert ret_online_cases == online_cases"
   ]
  },
  {
   "cell_type": "code",
   "execution_count": 17,
   "metadata": {},
   "outputs": [
    {
     "name": "stdout",
     "output_type": "stream",
     "text": [
      "best-g: 7\n",
      "trie-g new: 9. (prev trie-g: 8)\n",
      "trie-h new: 4. (prev trie-h: 4)\n",
      "best-g-new: 9\n"
     ]
    }
   ],
   "source": [
    "trie_g_new = trie.calc_g_value(patterns + new_patterns)\n",
    "trie_h_new = trie.calc_h_value(patterns + new_patterns)\n",
    "print(\"best-g:\", best_g)\n",
    "print(\"trie-g new: {}. (prev trie-g: {})\".format(trie_g_new, trie_g))\n",
    "print(\"trie-h new: {}. (prev trie-h: {})\".format(trie_h_new, trie_h))\n",
    "best_g_new = max(best_g, trie_g_new)\n",
    "print(\"best-g-new:\", best_g_new)"
   ]
  },
  {
   "cell_type": "code",
   "execution_count": 18,
   "metadata": {},
   "outputs": [],
   "source": [
    "num_feedbacks = 0\n",
    "num_feedbacks_new = 0\n",
    "num_feedbacks_old = 0\n",
    "\n",
    "def contains_new_pattern(text, new_patterns):\n",
    "    new_ps_str = [\"#\".join(p) for p in new_patterns]\n",
    "    text_str = \"#\".join(text)\n",
    "    for new_p_str in new_ps_str:\n",
    "        if new_p_str in text_str:\n",
    "            return True\n",
    "    return False\n",
    "    \n",
    "for index, case in online_cases.items():\n",
    "    text, marks, anomaly_exists = case\n",
    "    res = deep_log_model.monitor_session(text, marks, g=best_g)\n",
    "    if res == \"FP\":\n",
    "        deep_log_model.train_feedback(text, marks, g = best_g) # we are using here the old empirical best g. The theoretical g (trie_g_new) might be higher and give at the end worse results.\n",
    "        num_feedbacks += 1\n",
    "        if contains_new_pattern(text, new_patterns):\n",
    "            num_feedbacks_new +=1\n",
    "        else:\n",
    "            num_feedbacks_old +=1 # count only totally \"old\" feedback cases without any new workflow \n",
    "        "
   ]
  },
  {
   "cell_type": "code",
   "execution_count": 19,
   "metadata": {},
   "outputs": [
    {
     "name": "stdout",
     "output_type": "stream",
     "text": [
      "num_feedbacks_new 1469\n",
      "num_feedbacks_old 1598\n",
      "num_feedbacks 3067\n"
     ]
    }
   ],
   "source": [
    "print(\"num_feedbacks_new\", num_feedbacks_new)\n",
    "print(\"num_feedbacks_old\", num_feedbacks_old)\n",
    "print(\"num_feedbacks\", num_feedbacks)"
   ]
  },
  {
   "cell_type": "code",
   "execution_count": 20,
   "metadata": {},
   "outputs": [],
   "source": [
    "tests2 = generator.generate_tests(patterns + new_patterns, vocabulary, n=700, text_size = 4, anomaly_ratio=0.1)"
   ]
  },
  {
   "cell_type": "code",
   "execution_count": 21,
   "metadata": {},
   "outputs": [],
   "source": [
    "def write_inputs3(subdir, tests):\n",
    "    dir_= os.path.join(\"..\\\\inputs\", subdir)\n",
    "    os.makedirs(dir_, exist_ok=True)\n",
    "    \n",
    "    j5 = {\"tests\" : tests}\n",
    "    json.dump(j5, open(os.path.join(dir_, \"tests2.json\"), \"w\"))\n",
    "\n",
    "def read_inputs3(subdir):\n",
    "    dir_= os.path.join(\"..\\\\inputs\", subdir)\n",
    "    j5 = json.load(open(os.path.join(dir_, \"tests2.json\")))\n",
    "    \n",
    "    tests_str_keys = j5[\"tests\"]\n",
    "    tests = dict()\n",
    "    for k,v in tests_str_keys.items():\n",
    "        tests[int(k)] = tuple(v)\n",
    "    return tests"
   ]
  },
  {
   "cell_type": "code",
   "execution_count": 22,
   "metadata": {},
   "outputs": [],
   "source": [
    "write_inputs3(subdir, tests2)\n",
    "ret_tests2 = read_inputs3(subdir)\n",
    "assert ret_tests2 == tests2"
   ]
  },
  {
   "cell_type": "code",
   "execution_count": 23,
   "metadata": {},
   "outputs": [
    {
     "name": "stdout",
     "output_type": "stream",
     "text": [
      "time: 135.079 seconds\n"
     ]
    }
   ],
   "source": [
    "b = time.time()\n",
    "entries = list()\n",
    "for k, (text_test, text_marks, anomaly) in tests2.items():\n",
    "    for g in range(best_g, vocabulary_size+1): # adding WF can't cause lower g.\n",
    "        res = deep_log_model.monitor_session(text_test, text_marks, g=g)\n",
    "        entry = (k,g,res)\n",
    "        entries.append(entry)\n",
    "e = time.time()\n",
    "print(\"time:\", round(e-b,3), \"seconds\")"
   ]
  },
  {
   "cell_type": "code",
   "execution_count": 24,
   "metadata": {},
   "outputs": [
    {
     "name": "stdout",
     "output_type": "stream",
     "text": [
      "measure results for each g-value\n"
     ]
    },
    {
     "data": {
      "text/html": [
       "<div>\n",
       "<style scoped>\n",
       "    .dataframe tbody tr th:only-of-type {\n",
       "        vertical-align: middle;\n",
       "    }\n",
       "\n",
       "    .dataframe tbody tr th {\n",
       "        vertical-align: top;\n",
       "    }\n",
       "\n",
       "    .dataframe thead th {\n",
       "        text-align: right;\n",
       "    }\n",
       "</style>\n",
       "<table border=\"1\" class=\"dataframe\">\n",
       "  <thead>\n",
       "    <tr style=\"text-align: right;\">\n",
       "      <th></th>\n",
       "      <th>g</th>\n",
       "      <th>prec</th>\n",
       "      <th>rec</th>\n",
       "      <th>acc</th>\n",
       "      <th>f1</th>\n",
       "      <th>TP</th>\n",
       "      <th>TN</th>\n",
       "      <th>FP</th>\n",
       "      <th>FN</th>\n",
       "    </tr>\n",
       "  </thead>\n",
       "  <tbody>\n",
       "    <tr>\n",
       "      <th>0</th>\n",
       "      <td>7</td>\n",
       "      <td>0.501558</td>\n",
       "      <td>0.777778</td>\n",
       "      <td>0.705714</td>\n",
       "      <td>0.609848</td>\n",
       "      <td>161</td>\n",
       "      <td>333</td>\n",
       "      <td>160</td>\n",
       "      <td>46</td>\n",
       "    </tr>\n",
       "    <tr>\n",
       "      <th>1</th>\n",
       "      <td>8</td>\n",
       "      <td>0.621469</td>\n",
       "      <td>0.531401</td>\n",
       "      <td>0.765714</td>\n",
       "      <td>0.572917</td>\n",
       "      <td>110</td>\n",
       "      <td>426</td>\n",
       "      <td>67</td>\n",
       "      <td>97</td>\n",
       "    </tr>\n",
       "    <tr>\n",
       "      <th>2</th>\n",
       "      <td>9</td>\n",
       "      <td>0.964286</td>\n",
       "      <td>0.260870</td>\n",
       "      <td>0.778571</td>\n",
       "      <td>0.410646</td>\n",
       "      <td>54</td>\n",
       "      <td>491</td>\n",
       "      <td>2</td>\n",
       "      <td>153</td>\n",
       "    </tr>\n",
       "    <tr>\n",
       "      <th>3</th>\n",
       "      <td>10</td>\n",
       "      <td>0.000000</td>\n",
       "      <td>0.000000</td>\n",
       "      <td>0.704286</td>\n",
       "      <td>0.000000</td>\n",
       "      <td>0</td>\n",
       "      <td>493</td>\n",
       "      <td>0</td>\n",
       "      <td>207</td>\n",
       "    </tr>\n",
       "  </tbody>\n",
       "</table>\n",
       "</div>"
      ],
      "text/plain": [
       "    g      prec       rec       acc        f1   TP   TN   FP   FN\n",
       "0   7  0.501558  0.777778  0.705714  0.609848  161  333  160   46\n",
       "1   8  0.621469  0.531401  0.765714  0.572917  110  426   67   97\n",
       "2   9  0.964286  0.260870  0.778571  0.410646   54  491    2  153\n",
       "3  10  0.000000  0.000000  0.704286  0.000000    0  493    0  207"
      ]
     },
     "execution_count": 24,
     "metadata": {},
     "output_type": "execute_result"
    }
   ],
   "source": [
    "df2 = pd.DataFrame(entries, columns = [\"i\",\"g\",\"status\"])\n",
    "ddf2 = df2.pivot_table(index=\"i\", columns = \"g\", values = \"status\", aggfunc = \"sum\")\n",
    "def calc(s):\n",
    "    c = dict(collections.Counter(s))\n",
    "    TP = c.get(\"TP\", 0)\n",
    "    TN = c.get(\"TN\", 0)\n",
    "    FP = c.get(\"FP\", 0)\n",
    "    FN = c.get(\"FN\", 0)\n",
    "    eps = 1e-9\n",
    "    \n",
    "    prec = TP / (TP + FP + eps)\n",
    "    rec = TP / (TP + FN + eps)\n",
    "    acc = (TP + TN) / (TP + TN + FP + FN + eps)\n",
    "    f1 = 2*(prec*rec)/(prec+rec+eps)\n",
    "    \n",
    "    return {\"g\" : s.name, \"prec\" : prec, \"rec\" : rec, \"acc\" : acc, \"f1\" : f1, \"TP\" : TP, \"TN\" : TN, \"FP\" : FP, \"FN\" : FN}\n",
    "    \n",
    "e=ddf2.apply(calc, axis=0)\n",
    "e2=pd.DataFrame(list(e.values))\n",
    "\n",
    "print(\"measure results for each g-value\")\n",
    "e2"
   ]
  },
  {
   "cell_type": "code",
   "execution_count": 25,
   "metadata": {},
   "outputs": [],
   "source": [
    "best_result2 = e2.loc[[e2[\"f1\"].argmax()]]\n",
    "best_g2 = best_result2[\"g\"].iloc[0]"
   ]
  },
  {
   "cell_type": "code",
   "execution_count": 26,
   "metadata": {},
   "outputs": [
    {
     "data": {
      "text/html": [
       "<div>\n",
       "<style scoped>\n",
       "    .dataframe tbody tr th:only-of-type {\n",
       "        vertical-align: middle;\n",
       "    }\n",
       "\n",
       "    .dataframe tbody tr th {\n",
       "        vertical-align: top;\n",
       "    }\n",
       "\n",
       "    .dataframe thead th {\n",
       "        text-align: right;\n",
       "    }\n",
       "</style>\n",
       "<table border=\"1\" class=\"dataframe\">\n",
       "  <thead>\n",
       "    <tr style=\"text-align: right;\">\n",
       "      <th></th>\n",
       "      <th>g</th>\n",
       "      <th>prec</th>\n",
       "      <th>rec</th>\n",
       "      <th>acc</th>\n",
       "      <th>f1</th>\n",
       "      <th>TP</th>\n",
       "      <th>TN</th>\n",
       "      <th>FP</th>\n",
       "      <th>FN</th>\n",
       "      <th>num_feedbacks_new</th>\n",
       "      <th>num_feedbacks_old</th>\n",
       "      <th>num_feedbacks</th>\n",
       "    </tr>\n",
       "  </thead>\n",
       "  <tbody>\n",
       "    <tr>\n",
       "      <th>0</th>\n",
       "      <td>7</td>\n",
       "      <td>0.501558</td>\n",
       "      <td>0.777778</td>\n",
       "      <td>0.705714</td>\n",
       "      <td>0.609848</td>\n",
       "      <td>161</td>\n",
       "      <td>333</td>\n",
       "      <td>160</td>\n",
       "      <td>46</td>\n",
       "      <td>1469</td>\n",
       "      <td>1598</td>\n",
       "      <td>3067</td>\n",
       "    </tr>\n",
       "  </tbody>\n",
       "</table>\n",
       "</div>"
      ],
      "text/plain": [
       "   g      prec       rec       acc        f1   TP   TN   FP  FN  \\\n",
       "0  7  0.501558  0.777778  0.705714  0.609848  161  333  160  46   \n",
       "\n",
       "   num_feedbacks_new  num_feedbacks_old  num_feedbacks  \n",
       "0               1469               1598           3067  "
      ]
     },
     "execution_count": 26,
     "metadata": {},
     "output_type": "execute_result"
    }
   ],
   "source": [
    "e3 = e2[e2[\"g\"] == best_g2].copy()\n",
    "e3[\"num_feedbacks_new\"] = num_feedbacks_new\n",
    "e3[\"num_feedbacks_old\"] = num_feedbacks_old\n",
    "e3[\"num_feedbacks\"] = num_feedbacks\n",
    "e3"
   ]
  }
 ],
 "metadata": {
  "kernelspec": {
   "display_name": "venv",
   "language": "python",
   "name": "venv"
  },
  "language_info": {
   "codemirror_mode": {
    "name": "ipython",
    "version": 3
   },
   "file_extension": ".py",
   "mimetype": "text/x-python",
   "name": "python",
   "nbconvert_exporter": "python",
   "pygments_lexer": "ipython3",
   "version": "3.8.5"
  }
 },
 "nbformat": 4,
 "nbformat_minor": 4
}
